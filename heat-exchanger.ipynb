{
 "cells": [
  {
   "cell_type": "code",
   "execution_count": null,
   "metadata": {},
   "outputs": [],
   "source": [
    "mult = 1.\n",
    "m_dot_standard = mult*0.034 # kg/s\n",
    "\n",
    "manifold_Spring = gen.duct(\"rectangle\",width=0.022,height=0.010,m_dot=m_dot_standard,fluid=\"water\")\n",
    "\n",
    "canal_MPE = gen.duct(\"rectangle\",width=0.001,height=0.003,m_dot=m_dot_standard/300,fluid=\"water\")\n",
    "\n",
    "tube_V4_1 = gen.duct(\"tube\",diameter=0.008,m_dot = m_dot_standard,fluid=\"water\")"
   ]
  },
  {
   "cell_type": "code",
   "execution_count": null,
   "metadata": {},
   "outputs": [],
   "source": [
    "print(\"canal_MPE\")\n",
    "print(canal_MPE.csA)\n",
    "print(canal_MPE.HD*1000,\"mm\")\n",
    "print(canal_MPE.Re)\n",
    "print(canal_MPE.h_int)\n",
    "print(\" \")\n",
    "print(\"tube_V4_1\")\n",
    "print(tube_V4_1.csA)\n",
    "print(tube_V4_1.HD*1000,\"mm\")\n",
    "print(tube_V4_1.Re)\n",
    "print(tube_V4_1.h_int)\n",
    "print(\" \")\n",
    "print(\"manifold_Spring\")\n",
    "print(manifold_Spring.csA)\n",
    "print(manifold_Spring.HD*1000,\"mm\")\n",
    "print(manifold_Spring.Re)\n",
    "print(manifold_Spring.h_int)"
   ]
  }
 ],
 "metadata": {
  "kernelspec": {
   "display_name": "model23",
   "language": "python",
   "name": "python3"
  },
  "language_info": {
   "name": "python",
   "version": "3.10.5 (tags/v3.10.5:f377153, Jun  6 2022, 16:14:13) [MSC v.1929 64 bit (AMD64)]"
  },
  "orig_nbformat": 4,
  "vscode": {
   "interpreter": {
    "hash": "d629700add7d13df99efa7b6ee1fc1a3d9f6e4ac2336389d6054d4e516eee861"
   }
  }
 },
 "nbformat": 4,
 "nbformat_minor": 2
}
