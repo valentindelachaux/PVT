{
 "cells": [
  {
   "cell_type": "code",
   "execution_count": null,
   "metadata": {},
   "outputs": [],
   "source": [
    "import itertools as it"
   ]
  },
  {
   "cell_type": "code",
   "execution_count": null,
   "metadata": {},
   "outputs": [],
   "source": [
    "calepinage = [(12,10),(7,9),(5,7),(5,6),(5,5),(1,4),(1,3)]"
   ]
  },
  {
   "cell_type": "code",
   "execution_count": null,
   "metadata": {},
   "outputs": [],
   "source": [
    "calepinage = [(5,6),(5,5),(1,4),(1,3)]"
   ]
  },
  {
   "cell_type": "code",
   "execution_count": null,
   "metadata": {},
   "outputs": [],
   "source": [
    "calepinage[0][0]*[calepinage[0][1]]"
   ]
  },
  {
   "cell_type": "code",
   "execution_count": null,
   "metadata": {},
   "outputs": [],
   "source": [
    "base = []\n",
    "for i in range(len(calepinage)):\n",
    "    base += calepinage[i][0]*[calepinage[i][1]]\n",
    "\n",
    "base"
   ]
  },
  {
   "cell_type": "code",
   "execution_count": null,
   "metadata": {},
   "outputs": [],
   "source": [
    "seq = []\n",
    "for i in range(len(calepinage)):\n",
    "    seq += calepinage[i][0]*[calepinage[i][1]]\n",
    "\n",
    "seq"
   ]
  },
  {
   "cell_type": "code",
   "execution_count": null,
   "metadata": {},
   "outputs": [],
   "source": [
    "print(sum(seq))"
   ]
  },
  {
   "cell_type": "code",
   "execution_count": null,
   "metadata": {},
   "outputs": [],
   "source": [
    "liste = []\n",
    "for i in range(len(sequence)):\n",
    "    for j in it.combinations(sequence, i):\n",
    "        liste.append(j)\n",
    "\n",
    "liste = list(set(liste))\n",
    "liste.sort(reverse=True)\n",
    "print(liste)\n",
    "\n",
    "liste_sommes = []\n",
    "\n",
    "for i in range(len(liste)):\n",
    "    liste_sommes.append(sum(liste[i]))\n",
    "\n",
    "liste_sommes"
   ]
  },
  {
   "cell_type": "code",
   "execution_count": null,
   "metadata": {},
   "outputs": [],
   "source": [
    "taille_boite = 31"
   ]
  },
  {
   "cell_type": "code",
   "execution_count": null,
   "metadata": {},
   "outputs": [],
   "source": [
    "liste = []\n",
    "for i in range(len(seq)):\n",
    "    for j in it.combinations(seq, i):\n",
    "        liste.append(j)\n",
    "\n",
    "liste = list(set(liste))\n",
    "liste.sort(reverse=True)\n",
    "\n",
    "liste_sommes = []\n",
    "for i in range(len(liste)):\n",
    "    liste_sommes.append(sum(liste[i]))"
   ]
  },
  {
   "cell_type": "code",
   "execution_count": null,
   "metadata": {},
   "outputs": [],
   "source": [
    "liste_sommes.sort(reverse=True)\n",
    "liste_sommes"
   ]
  },
  {
   "cell_type": "code",
   "execution_count": null,
   "metadata": {},
   "outputs": [],
   "source": [
    "int(taille_boite/8)"
   ]
  },
  {
   "cell_type": "code",
   "execution_count": null,
   "metadata": {},
   "outputs": [],
   "source": [
    "int(taille_boite/min(seq))"
   ]
  },
  {
   "cell_type": "code",
   "execution_count": null,
   "metadata": {},
   "outputs": [],
   "source": [
    "garde = []\n",
    "compt = 0\n",
    "liste_sommes = [taille_boite]\n",
    "nb_max_par_ligne = 8\n",
    "combi_min = int(taille_boite/nb_max_par_ligne)\n",
    "combi_max = int(taille_boite/min(seq))\n"
   ]
  },
  {
   "cell_type": "code",
   "execution_count": null,
   "metadata": {},
   "outputs": [],
   "source": [
    "combi_min"
   ]
  },
  {
   "cell_type": "code",
   "execution_count": null,
   "metadata": {},
   "outputs": [],
   "source": [
    "combi_max"
   ]
  },
  {
   "cell_type": "code",
   "execution_count": null,
   "metadata": {},
   "outputs": [],
   "source": [
    "len(seq)"
   ]
  },
  {
   "cell_type": "code",
   "execution_count": null,
   "metadata": {},
   "outputs": [],
   "source": [
    "while (taille_boite in liste_sommes):\n",
    "    print(compt)\n",
    "    if compt > 0 :\n",
    "\n",
    "        for i in range(len(liste_sommes)):\n",
    "            if sum(liste[i])==taille_boite:\n",
    "                print(i)\n",
    "                for j in range(len(liste[i])):\n",
    "                    seq.remove(liste[i][j])\n",
    "                garde.append(liste[i])\n",
    "                break\n",
    "            else:\n",
    "                pass\n",
    "     \n",
    "    liste = []\n",
    "    for i in range(combi_min,combi_max,1):\n",
    "        for j in it.combinations(seq, i):\n",
    "            liste.append(j)\n",
    "\n",
    "    liste = list(set(liste))\n",
    "    liste.sort(reverse=True)\n",
    "\n",
    "    # print(liste)\n",
    "   \n",
    "\n",
    "    liste_sommes = []\n",
    "    for i in range(len(liste)):\n",
    "        liste_sommes.append(sum(liste[i]))\n",
    "\n",
    "    # print(liste_sommes)\n",
    "\n",
    "    compt+=1\n",
    "    \n",
    "print(garde)"
   ]
  },
  {
   "cell_type": "code",
   "execution_count": null,
   "metadata": {},
   "outputs": [],
   "source": [
    "def build_layout():\n",
    "    list = []\n",
    "    return list"
   ]
  },
  {
   "cell_type": "code",
   "execution_count": null,
   "metadata": {},
   "outputs": [],
   "source": [
    "build_layout()"
   ]
  },
  {
   "cell_type": "code",
   "execution_count": null,
   "metadata": {},
   "outputs": [],
   "source": [
    "garde"
   ]
  },
  {
   "cell_type": "code",
   "execution_count": null,
   "metadata": {},
   "outputs": [],
   "source": [
    "liste"
   ]
  },
  {
   "cell_type": "code",
   "execution_count": null,
   "metadata": {},
   "outputs": [],
   "source": [
    "liste_sommes"
   ]
  },
  {
   "cell_type": "code",
   "execution_count": null,
   "metadata": {},
   "outputs": [],
   "source": [
    "print(seq)"
   ]
  },
  {
   "cell_type": "code",
   "execution_count": null,
   "metadata": {},
   "outputs": [],
   "source": [
    "liste.sort(reverse=True)"
   ]
  },
  {
   "cell_type": "code",
   "execution_count": null,
   "metadata": {},
   "outputs": [],
   "source": [
    "liste"
   ]
  },
  {
   "cell_type": "code",
   "execution_count": null,
   "metadata": {},
   "outputs": [],
   "source": [
    "len(liste)"
   ]
  },
  {
   "cell_type": "code",
   "execution_count": null,
   "metadata": {},
   "outputs": [],
   "source": []
  }
 ],
 "metadata": {
  "kernelspec": {
   "display_name": "model23",
   "language": "python",
   "name": "python3"
  },
  "language_info": {
   "codemirror_mode": {
    "name": "ipython",
    "version": 3
   },
   "file_extension": ".py",
   "mimetype": "text/x-python",
   "name": "python",
   "nbconvert_exporter": "python",
   "pygments_lexer": "ipython3",
   "version": "3.10.5"
  },
  "orig_nbformat": 4,
  "vscode": {
   "interpreter": {
    "hash": "d629700add7d13df99efa7b6ee1fc1a3d9f6e4ac2336389d6054d4e516eee861"
   }
  }
 },
 "nbformat": 4,
 "nbformat_minor": 2
}
