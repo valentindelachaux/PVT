{
 "cells": [
  {
   "cell_type": "code",
   "execution_count": 2,
   "metadata": {},
   "outputs": [],
   "source": [
    "import itertools as it"
   ]
  },
  {
   "cell_type": "code",
   "execution_count": 3,
   "metadata": {},
   "outputs": [],
   "source": [
    "calepinage = [(12,10),(7,9),(5,7),(5,6),(5,5),(1,4),(1,3)]"
   ]
  },
  {
   "cell_type": "code",
   "execution_count": 21,
   "metadata": {},
   "outputs": [],
   "source": [
    "calepinage = [(5,6),(5,5),(1,4),(1,3)]"
   ]
  },
  {
   "cell_type": "code",
   "execution_count": 31,
   "metadata": {},
   "outputs": [
    {
     "data": {
      "text/plain": [
       "[6, 6, 6, 6, 6]"
      ]
     },
     "execution_count": 31,
     "metadata": {},
     "output_type": "execute_result"
    }
   ],
   "source": [
    "calepinage[0][0]*[calepinage[0][1]]"
   ]
  },
  {
   "cell_type": "code",
   "execution_count": 22,
   "metadata": {},
   "outputs": [
    {
     "data": {
      "text/plain": [
       "[6, 6, 6, 6, 6, 5, 5, 5, 5, 5, 4, 3]"
      ]
     },
     "execution_count": 22,
     "metadata": {},
     "output_type": "execute_result"
    }
   ],
   "source": [
    "base = []\n",
    "for i in range(len(calepinage)):\n",
    "    base += calepinage[i][0]*[calepinage[i][1]]\n",
    "\n",
    "base"
   ]
  },
  {
   "cell_type": "code",
   "execution_count": 24,
   "metadata": {},
   "outputs": [
    {
     "data": {
      "text/plain": [
       "[6, 6, 6, 6, 6, 5, 5, 5, 5, 5, 4, 3]"
      ]
     },
     "execution_count": 24,
     "metadata": {},
     "output_type": "execute_result"
    }
   ],
   "source": [
    "seq = []\n",
    "for i in range(len(calepinage)):\n",
    "    seq += calepinage[i][0]*[calepinage[i][1]]\n",
    "\n",
    "seq"
   ]
  },
  {
   "cell_type": "code",
   "execution_count": 25,
   "metadata": {},
   "outputs": [
    {
     "name": "stdout",
     "output_type": "stream",
     "text": [
      "62\n"
     ]
    }
   ],
   "source": [
    "print(sum(seq))"
   ]
  },
  {
   "cell_type": "code",
   "execution_count": null,
   "metadata": {},
   "outputs": [],
   "source": [
    "liste = []\n",
    "for i in range(len(sequence)):\n",
    "    for j in it.combinations(sequence, i):\n",
    "        liste.append(j)\n",
    "\n",
    "liste = list(set(liste))\n",
    "liste.sort(reverse=True)\n",
    "print(liste)\n",
    "\n",
    "liste_sommes = []\n",
    "\n",
    "for i in range(len(liste)):\n",
    "    liste_sommes.append(sum(liste[i]))\n",
    "\n",
    "liste_sommes"
   ]
  },
  {
   "cell_type": "code",
   "execution_count": 26,
   "metadata": {},
   "outputs": [],
   "source": [
    "taille_boite = 31"
   ]
  },
  {
   "cell_type": "code",
   "execution_count": 41,
   "metadata": {},
   "outputs": [],
   "source": [
    "liste = []\n",
    "for i in range(len(seq)):\n",
    "    for j in it.combinations(seq, i):\n",
    "        liste.append(j)\n",
    "\n",
    "liste = list(set(liste))\n",
    "liste.sort(reverse=True)\n",
    "\n",
    "liste_sommes = []\n",
    "for i in range(len(liste)):\n",
    "    liste_sommes.append(sum(liste[i]))"
   ]
  },
  {
   "cell_type": "code",
   "execution_count": 45,
   "metadata": {},
   "outputs": [
    {
     "data": {
      "text/plain": [
       "[59,\n",
       " 58,\n",
       " 57,\n",
       " 56,\n",
       " 55,\n",
       " 54,\n",
       " 53,\n",
       " 53,\n",
       " 52,\n",
       " 52,\n",
       " 51,\n",
       " 50,\n",
       " 50,\n",
       " 49,\n",
       " 49,\n",
       " 48,\n",
       " 48,\n",
       " 47,\n",
       " 47,\n",
       " 47,\n",
       " 46,\n",
       " 46,\n",
       " 45,\n",
       " 45,\n",
       " 44,\n",
       " 44,\n",
       " 44,\n",
       " 43,\n",
       " 43,\n",
       " 43,\n",
       " 42,\n",
       " 42,\n",
       " 42,\n",
       " 41,\n",
       " 41,\n",
       " 41,\n",
       " 40,\n",
       " 40,\n",
       " 40,\n",
       " 39,\n",
       " 39,\n",
       " 39,\n",
       " 38,\n",
       " 38,\n",
       " 38,\n",
       " 38,\n",
       " 37,\n",
       " 37,\n",
       " 37,\n",
       " 37,\n",
       " 36,\n",
       " 36,\n",
       " 36,\n",
       " 35,\n",
       " 35,\n",
       " 35,\n",
       " 35,\n",
       " 34,\n",
       " 34,\n",
       " 34,\n",
       " 34,\n",
       " 33,\n",
       " 33,\n",
       " 33,\n",
       " 33,\n",
       " 32,\n",
       " 32,\n",
       " 32,\n",
       " 32,\n",
       " 31,\n",
       " 31,\n",
       " 31,\n",
       " 31,\n",
       " 30,\n",
       " 30,\n",
       " 30,\n",
       " 30,\n",
       " 29,\n",
       " 29,\n",
       " 29,\n",
       " 29,\n",
       " 28,\n",
       " 28,\n",
       " 28,\n",
       " 28,\n",
       " 27,\n",
       " 27,\n",
       " 27,\n",
       " 27,\n",
       " 26,\n",
       " 26,\n",
       " 26,\n",
       " 25,\n",
       " 25,\n",
       " 25,\n",
       " 25,\n",
       " 24,\n",
       " 24,\n",
       " 24,\n",
       " 24,\n",
       " 23,\n",
       " 23,\n",
       " 23,\n",
       " 22,\n",
       " 22,\n",
       " 22,\n",
       " 21,\n",
       " 21,\n",
       " 21,\n",
       " 20,\n",
       " 20,\n",
       " 20,\n",
       " 19,\n",
       " 19,\n",
       " 19,\n",
       " 18,\n",
       " 18,\n",
       " 18,\n",
       " 17,\n",
       " 17,\n",
       " 16,\n",
       " 16,\n",
       " 15,\n",
       " 15,\n",
       " 15,\n",
       " 14,\n",
       " 14,\n",
       " 13,\n",
       " 13,\n",
       " 12,\n",
       " 12,\n",
       " 11,\n",
       " 10,\n",
       " 10,\n",
       " 9,\n",
       " 9,\n",
       " 8,\n",
       " 7,\n",
       " 6,\n",
       " 5,\n",
       " 4,\n",
       " 3,\n",
       " 0]"
      ]
     },
     "execution_count": 45,
     "metadata": {},
     "output_type": "execute_result"
    }
   ],
   "source": [
    "liste_sommes.sort(reverse=True)\n",
    "liste_sommes"
   ]
  },
  {
   "cell_type": "code",
   "execution_count": 6,
   "metadata": {},
   "outputs": [
    {
     "data": {
      "text/plain": [
       "3"
      ]
     },
     "execution_count": 6,
     "metadata": {},
     "output_type": "execute_result"
    }
   ],
   "source": [
    "int(taille_boite/8)"
   ]
  },
  {
   "cell_type": "code",
   "execution_count": 8,
   "metadata": {},
   "outputs": [
    {
     "data": {
      "text/plain": [
       "10"
      ]
     },
     "execution_count": 8,
     "metadata": {},
     "output_type": "execute_result"
    }
   ],
   "source": [
    "int(taille_boite/min(seq))"
   ]
  },
  {
   "cell_type": "code",
   "execution_count": 15,
   "metadata": {},
   "outputs": [],
   "source": [
    "garde = []\n",
    "compt = 0\n",
    "liste_sommes = [taille_boite]\n",
    "nb_max_par_ligne = 8\n",
    "combi_min = int(taille_boite/nb_max_par_ligne)\n",
    "combi_max = int(taille_boite/min(seq))\n"
   ]
  },
  {
   "cell_type": "code",
   "execution_count": 8,
   "metadata": {},
   "outputs": [
    {
     "data": {
      "text/plain": [
       "3"
      ]
     },
     "execution_count": 8,
     "metadata": {},
     "output_type": "execute_result"
    }
   ],
   "source": [
    "combi_min"
   ]
  },
  {
   "cell_type": "code",
   "execution_count": 9,
   "metadata": {},
   "outputs": [
    {
     "data": {
      "text/plain": [
       "10"
      ]
     },
     "execution_count": 9,
     "metadata": {},
     "output_type": "execute_result"
    }
   ],
   "source": [
    "combi_max"
   ]
  },
  {
   "cell_type": "code",
   "execution_count": 12,
   "metadata": {},
   "outputs": [
    {
     "data": {
      "text/plain": [
       "36"
      ]
     },
     "execution_count": 12,
     "metadata": {},
     "output_type": "execute_result"
    }
   ],
   "source": [
    "len(seq)"
   ]
  },
  {
   "cell_type": "code",
   "execution_count": 16,
   "metadata": {},
   "outputs": [
    {
     "name": "stdout",
     "output_type": "stream",
     "text": [
      "0\n"
     ]
    },
    {
     "ename": "KeyboardInterrupt",
     "evalue": "",
     "output_type": "error",
     "traceback": [
      "\u001b[1;31m---------------------------------------------------------------------------\u001b[0m",
      "\u001b[1;31mKeyboardInterrupt\u001b[0m                         Traceback (most recent call last)",
      "Cell \u001b[1;32mIn [16], line 18\u001b[0m\n\u001b[0;32m     16\u001b[0m \u001b[39mfor\u001b[39;00m i \u001b[39min\u001b[39;00m \u001b[39mrange\u001b[39m(combi_min,combi_max,\u001b[39m1\u001b[39m):\n\u001b[0;32m     17\u001b[0m     \u001b[39mfor\u001b[39;00m j \u001b[39min\u001b[39;00m it\u001b[39m.\u001b[39mcombinations(seq, i):\n\u001b[1;32m---> 18\u001b[0m         liste\u001b[39m.\u001b[39mappend(j)\n\u001b[0;32m     20\u001b[0m liste \u001b[39m=\u001b[39m \u001b[39mlist\u001b[39m(\u001b[39mset\u001b[39m(liste))\n\u001b[0;32m     21\u001b[0m liste\u001b[39m.\u001b[39msort(reverse\u001b[39m=\u001b[39m\u001b[39mTrue\u001b[39;00m)\n",
      "\u001b[1;31mKeyboardInterrupt\u001b[0m: "
     ]
    }
   ],
   "source": [
    "while (taille_boite in liste_sommes):\n",
    "    print(compt)\n",
    "    if compt > 0 :\n",
    "\n",
    "        for i in range(len(liste_sommes)):\n",
    "            if sum(liste[i])==taille_boite:\n",
    "                print(i)\n",
    "                for j in range(len(liste[i])):\n",
    "                    seq.remove(liste[i][j])\n",
    "                garde.append(liste[i])\n",
    "                break\n",
    "            else:\n",
    "                pass\n",
    "     \n",
    "    liste = []\n",
    "    for i in range(combi_min,combi_max,1):\n",
    "        for j in it.combinations(seq, i):\n",
    "            liste.append(j)\n",
    "\n",
    "    liste = list(set(liste))\n",
    "    liste.sort(reverse=True)\n",
    "\n",
    "    # print(liste)\n",
    "   \n",
    "\n",
    "    liste_sommes = []\n",
    "    for i in range(len(liste)):\n",
    "        liste_sommes.append(sum(liste[i]))\n",
    "\n",
    "    # print(liste_sommes)\n",
    "\n",
    "    compt+=1\n",
    "    \n",
    "print(garde)"
   ]
  },
  {
   "cell_type": "code",
   "execution_count": 17,
   "metadata": {},
   "outputs": [],
   "source": [
    "def build_layout():\n",
    "    list = []\n",
    "    return list"
   ]
  },
  {
   "cell_type": "code",
   "execution_count": 18,
   "metadata": {},
   "outputs": [
    {
     "data": {
      "text/plain": [
       "[]"
      ]
     },
     "execution_count": 18,
     "metadata": {},
     "output_type": "execute_result"
    }
   ],
   "source": [
    "build_layout()"
   ]
  },
  {
   "cell_type": "code",
   "execution_count": 79,
   "metadata": {},
   "outputs": [
    {
     "data": {
      "text/plain": [
       "[(6, 6, 6, 6, 4, 3), (6, 5, 5, 5, 5, 5)]"
      ]
     },
     "execution_count": 79,
     "metadata": {},
     "output_type": "execute_result"
    }
   ],
   "source": [
    "garde"
   ]
  },
  {
   "cell_type": "code",
   "execution_count": 75,
   "metadata": {},
   "outputs": [
    {
     "data": {
      "text/plain": [
       "[(6, 5, 5, 5, 5),\n",
       " (6, 5, 5, 5),\n",
       " (6, 5, 5),\n",
       " (6, 5),\n",
       " (6,),\n",
       " (5, 5, 5, 5, 5),\n",
       " (5, 5, 5, 5),\n",
       " (5, 5, 5),\n",
       " (5, 5),\n",
       " (5,),\n",
       " ()]"
      ]
     },
     "execution_count": 75,
     "metadata": {},
     "output_type": "execute_result"
    }
   ],
   "source": [
    "liste"
   ]
  },
  {
   "cell_type": "code",
   "execution_count": 77,
   "metadata": {},
   "outputs": [
    {
     "data": {
      "text/plain": [
       "[26, 21, 16, 11, 6, 25, 20, 15, 10, 5, 0]"
      ]
     },
     "execution_count": 77,
     "metadata": {},
     "output_type": "execute_result"
    }
   ],
   "source": [
    "liste_sommes"
   ]
  },
  {
   "cell_type": "code",
   "execution_count": 61,
   "metadata": {},
   "outputs": [
    {
     "name": "stdout",
     "output_type": "stream",
     "text": [
      "None\n"
     ]
    }
   ],
   "source": [
    "print(seq)"
   ]
  },
  {
   "cell_type": "code",
   "execution_count": 22,
   "metadata": {},
   "outputs": [],
   "source": [
    "liste.sort(reverse=True)"
   ]
  },
  {
   "cell_type": "code",
   "execution_count": 23,
   "metadata": {},
   "outputs": [
    {
     "data": {
      "text/plain": [
       "[(6, 6, 4, 3, 2, 1, 1, 1),\n",
       " (6, 6, 4, 3, 2, 1, 1),\n",
       " (6, 6, 4, 3, 2, 1),\n",
       " (6, 6, 4, 3, 2),\n",
       " (6, 6, 4, 3, 1, 1, 1, 1),\n",
       " (6, 6, 4, 3, 1, 1, 1),\n",
       " (6, 6, 4, 3, 1, 1),\n",
       " (6, 6, 4, 3, 1),\n",
       " (6, 6, 4, 3),\n",
       " (6, 6, 4, 2, 1, 1, 1, 1),\n",
       " (6, 6, 4, 2, 1, 1, 1),\n",
       " (6, 6, 4, 2, 1, 1),\n",
       " (6, 6, 4, 2, 1),\n",
       " (6, 6, 4, 2),\n",
       " (6, 6, 4, 1, 1, 1, 1),\n",
       " (6, 6, 4, 1, 1, 1),\n",
       " (6, 6, 4, 1, 1),\n",
       " (6, 6, 4, 1),\n",
       " (6, 6, 4),\n",
       " (6, 6, 3, 2, 1, 1, 1, 1),\n",
       " (6, 6, 3, 2, 1, 1, 1),\n",
       " (6, 6, 3, 2, 1, 1),\n",
       " (6, 6, 3, 2, 1),\n",
       " (6, 6, 3, 2),\n",
       " (6, 6, 3, 1, 1, 1, 1),\n",
       " (6, 6, 3, 1, 1, 1),\n",
       " (6, 6, 3, 1, 1),\n",
       " (6, 6, 3, 1),\n",
       " (6, 6, 3),\n",
       " (6, 6, 2, 1, 1, 1, 1),\n",
       " (6, 6, 2, 1, 1, 1),\n",
       " (6, 6, 2, 1, 1),\n",
       " (6, 6, 2, 1),\n",
       " (6, 6, 2),\n",
       " (6, 6, 1, 1, 1, 1),\n",
       " (6, 6, 1, 1, 1),\n",
       " (6, 6, 1, 1),\n",
       " (6, 6, 1),\n",
       " (6, 6),\n",
       " (6, 4, 3, 2, 1, 1, 1, 1),\n",
       " (6, 4, 3, 2, 1, 1, 1),\n",
       " (6, 4, 3, 2, 1, 1),\n",
       " (6, 4, 3, 2, 1),\n",
       " (6, 4, 3, 2),\n",
       " (6, 4, 3, 1, 1, 1, 1),\n",
       " (6, 4, 3, 1, 1, 1),\n",
       " (6, 4, 3, 1, 1),\n",
       " (6, 4, 3, 1),\n",
       " (6, 4, 3),\n",
       " (6, 4, 2, 1, 1, 1, 1),\n",
       " (6, 4, 2, 1, 1, 1),\n",
       " (6, 4, 2, 1, 1),\n",
       " (6, 4, 2, 1),\n",
       " (6, 4, 2),\n",
       " (6, 4, 1, 1, 1, 1),\n",
       " (6, 4, 1, 1, 1),\n",
       " (6, 4, 1, 1),\n",
       " (6, 4, 1),\n",
       " (6, 4),\n",
       " (6, 3, 2, 1, 1, 1, 1),\n",
       " (6, 3, 2, 1, 1, 1),\n",
       " (6, 3, 2, 1, 1),\n",
       " (6, 3, 2, 1),\n",
       " (6, 3, 2),\n",
       " (6, 3, 1, 1, 1, 1),\n",
       " (6, 3, 1, 1, 1),\n",
       " (6, 3, 1, 1),\n",
       " (6, 3, 1),\n",
       " (6, 3),\n",
       " (6, 2, 1, 1, 1, 1),\n",
       " (6, 2, 1, 1, 1),\n",
       " (6, 2, 1, 1),\n",
       " (6, 2, 1),\n",
       " (6, 2),\n",
       " (6, 1, 1, 1, 1),\n",
       " (6, 1, 1, 1),\n",
       " (6, 1, 1),\n",
       " (6, 1),\n",
       " (6,),\n",
       " (4, 3, 2, 1, 1, 1, 1),\n",
       " (4, 3, 2, 1, 1, 1),\n",
       " (4, 3, 2, 1, 1),\n",
       " (4, 3, 2, 1),\n",
       " (4, 3, 2),\n",
       " (4, 3, 1, 1, 1, 1),\n",
       " (4, 3, 1, 1, 1),\n",
       " (4, 3, 1, 1),\n",
       " (4, 3, 1),\n",
       " (4, 3),\n",
       " (4, 2, 1, 1, 1, 1),\n",
       " (4, 2, 1, 1, 1),\n",
       " (4, 2, 1, 1),\n",
       " (4, 2, 1),\n",
       " (4, 2),\n",
       " (4, 1, 1, 1, 1),\n",
       " (4, 1, 1, 1),\n",
       " (4, 1, 1),\n",
       " (4, 1),\n",
       " (4,),\n",
       " (3, 2, 1, 1, 1, 1),\n",
       " (3, 2, 1, 1, 1),\n",
       " (3, 2, 1, 1),\n",
       " (3, 2, 1),\n",
       " (3, 2),\n",
       " (3, 1, 1, 1, 1),\n",
       " (3, 1, 1, 1),\n",
       " (3, 1, 1),\n",
       " (3, 1),\n",
       " (3,),\n",
       " (2, 1, 1, 1, 1),\n",
       " (2, 1, 1, 1),\n",
       " (2, 1, 1),\n",
       " (2, 1),\n",
       " (2,),\n",
       " (1, 1, 1, 1),\n",
       " (1, 1, 1),\n",
       " (1, 1),\n",
       " (1,),\n",
       " ()]"
      ]
     },
     "execution_count": 23,
     "metadata": {},
     "output_type": "execute_result"
    }
   ],
   "source": [
    "liste"
   ]
  },
  {
   "cell_type": "code",
   "execution_count": 6,
   "metadata": {},
   "outputs": [
    {
     "data": {
      "text/plain": [
       "511"
      ]
     },
     "execution_count": 6,
     "metadata": {},
     "output_type": "execute_result"
    }
   ],
   "source": [
    "len(liste)"
   ]
  },
  {
   "cell_type": "code",
   "execution_count": null,
   "metadata": {},
   "outputs": [],
   "source": []
  }
 ],
 "metadata": {
  "kernelspec": {
   "display_name": "model23",
   "language": "python",
   "name": "python3"
  },
  "language_info": {
   "codemirror_mode": {
    "name": "ipython",
    "version": 3
   },
   "file_extension": ".py",
   "mimetype": "text/x-python",
   "name": "python",
   "nbconvert_exporter": "python",
   "pygments_lexer": "ipython3",
   "version": "3.10.5"
  },
  "orig_nbformat": 4,
  "vscode": {
   "interpreter": {
    "hash": "d629700add7d13df99efa7b6ee1fc1a3d9f6e4ac2336389d6054d4e516eee861"
   }
  }
 },
 "nbformat": 4,
 "nbformat_minor": 2
}
