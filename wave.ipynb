{
 "cells": [
  {
   "cell_type": "code",
   "execution_count": 1,
   "metadata": {},
   "outputs": [],
   "source": [
    "import math\n",
    "\n",
    "import openpyxl as opxl\n",
    "from openpyxl.utils.dataframe import dataframe_to_rows\n",
    "import pandas as pd\n",
    "import numpy as np\n",
    "import matplotlib.pyplot as plt\n",
    "\n",
    "import wave_func as wf"
   ]
  },
  {
   "cell_type": "code",
   "execution_count": 2,
   "metadata": {},
   "outputs": [
    {
     "name": "stdout",
     "output_type": "stream",
     "text": [
      "0.012601562403130814\n",
      "[0.002396875193738376, 0.0225, 0.013800000000000002]\n",
      "0.0023968751937383723\n"
     ]
    }
   ],
   "source": [
    "# V4.45\n",
    "r_V445 = 13.8*1E-3\n",
    "lambda_V445 = 22.5*1E-3\n",
    "dp_he_V445 = 9.6*1E-3\n",
    "\n",
    "Heta = 0.022\n",
    "d_p_he = dp_he_V445 # distance du panneau au max de l'échangeur\n",
    "\n",
    "# e_he_tot = 0.022 # input de l' \"épaisseur\" totale de l'échangeur, max de la courbe sup au min de la courbe inf\n",
    "delta = 0.0037 # épaisseur vraie du MPE\n",
    "# e_he = e_he_tot-delta #épaisseur de la courbe sup échangeur\n",
    "lambd = lambda_V445 # lambda > 2*e_he\n",
    "\n",
    "# r = wf.radius(e_he,lambd)\n",
    "r = r_V445\n",
    "# r_input = 0.0138\n",
    "e_he = wf.e_he(r,lambd)\n",
    "\n",
    "#r = r_input\n",
    "\n",
    "wave = [e_he,lambd,r]\n",
    "\n",
    "omega2 = wf.omega2(wave)\n",
    "\n",
    "print(r-e_he/2)\n",
    "print(wave)\n",
    "test = 2*r - math.sqrt(4*r**2-(lambd**2)/4)\n",
    "print(test)\n"
   ]
  },
  {
   "cell_type": "code",
   "execution_count": 3,
   "metadata": {},
   "outputs": [
    {
     "data": {
      "image/png": "[encoded data removed]",
      "text/plain": [
       "<Figure size 640x480 with 1 Axes>"
      ]
     },
     "metadata": {},
     "output_type": "display_data"
    }
   ],
   "source": [
    "interval = np.linspace(-lambd/4,3*lambd/4,100)\n",
    "interval2 = np.linspace(0,lambd,100)\n",
    "y = []\n",
    "yP = []\n",
    "\n",
    "default = math.sqrt(r**2-interval[0]**2) - r - d_p_he\n",
    "\n",
    "for i in range(len(interval)):\n",
    "    x = interval[i]\n",
    "    if x<=lambd/4:\n",
    "        to_add = math.sqrt(r**2-x**2) - r - d_p_he\n",
    "        if x<=lambd/8-lambd/4:\n",
    "            to_add_p = default\n",
    "        elif (r-delta)**2-x**2 >0:\n",
    "            to_add_p = math.sqrt((r-delta)**2-x**2) - r - d_p_he\n",
    "        elif x>=0.012-lambd/4:\n",
    "            to_add_p = omega2[1] - math.sqrt((r+delta)**2-(x-omega2[0])**2) - r - d_p_he\n",
    "\n",
    "        else:\n",
    "            to_add_p = omega2[1] - math.sqrt((r+delta)**2-(x-omega2[0])**2) - r - d_p_he\n",
    "    else:\n",
    "        to_add = omega2[1] - math.sqrt(r**2-(x-omega2[0])**2) - r - d_p_he\n",
    "        if (r-delta)**2-x**2 >0:\n",
    "            to_add_p = math.sqrt((r-delta)**2-x**2) - r - d_p_he\n",
    "        else:\n",
    "            to_add_p = omega2[1] - math.sqrt((r+delta)**2-(x-omega2[0])**2) - r - d_p_he\n",
    "\n",
    "\n",
    "    y.append(to_add)\n",
    "    yP.append(to_add_p)\n",
    "\n",
    "# for i in range(1,len(interval)-1):\n",
    "#     x1 = interval[i-1]\n",
    "#     x2 = interval[i+1]\n",
    "#     y1 = y[i-1]\n",
    "#     y2 = y[i+1]\n",
    "#     m = (y2-y1)/(x2-x1)\n",
    "    \n",
    "#     xM = (x1+x2)/2\n",
    "#     yM = (y1+y2)/2\n",
    "#     b=m*xM+yM\n",
    "\n",
    "#     coeff = [m**2+1,2*(yM-b)*m-2*xM,(yM-b)**2+xM**2-delta**2]\n",
    "#     racines = np.roots(coeff)\n",
    "#     yPr = [-m*racines[0]+b,-m*racines[1]+b]\n",
    "#     yP = max(yPr)\n",
    "#     xP = (b-yP)/m\n",
    "\n",
    "#     xP_list.append(xP)\n",
    "#     yP_list.append(yP)\n",
    "\n",
    "plt.axhline(y=0,color='gray')\n",
    "plt.axhline(y=-Heta,color='orange')\n",
    "plt.plot(interval2,y,color='darkblue')\n",
    "plt.plot(interval2,yP,color='darkblue')\n",
    "# plt.plot(xP_list,yP_list,color='darkblue')\n",
    "\n",
    "axes = plt.gca()\n",
    "# axes.set_xlim(-0.5,0.03)\n",
    "plt.axis('equal')\n",
    "\n",
    "plt.grid()\n",
    "plt.show()"
   ]
  },
  {
   "cell_type": "code",
   "execution_count": 7,
   "metadata": {},
   "outputs": [
    {
     "name": "stdout",
     "output_type": "stream",
     "text": [
      "nb_period =  46.0\n",
      "theta = 0.8396676078966825\n",
      "2pi = 6.283185307179586\n",
      "L =  1.0660419949856283\n"
     ]
    }
   ],
   "source": [
    "l = 1.035 #longueur totale\n",
    "nb_period = l/lambd\n",
    "print('nb_period = ', nb_period)\n",
    "\n",
    "theta = 2*math.acos(1-(e_he/(2*r)))\n",
    "print('theta =', theta)\n",
    "print('2pi =', 2*math.pi)\n",
    "\n",
    "L = 2*theta*r*nb_period\n",
    "print('L = ',L)"
   ]
  },
  {
   "cell_type": "code",
   "execution_count": 5,
   "metadata": {},
   "outputs": [
    {
     "name": "stdout",
     "output_type": "stream",
     "text": [
      "e_he = 0.002396875193738376\n",
      "lambd = 0.0225\n",
      "r =  0.013800000000000002\n"
     ]
    }
   ],
   "source": [
    "print('e_he =',e_he)\n",
    "print('lambd =', lambd)\n",
    "print('r = ',r)\n"
   ]
  },
  {
   "cell_type": "code",
   "execution_count": null,
   "metadata": {},
   "outputs": [],
   "source": []
  }
 ],
 "metadata": {
  "kernelspec": {
   "display_name": "Python 3.10.5 ('model23')",
   "language": "python",
   "name": "python3"
  },
  "language_info": {
   "codemirror_mode": {
    "name": "ipython",
    "version": 3
   },
   "file_extension": ".py",
   "mimetype": "text/x-python",
   "name": "python",
   "nbconvert_exporter": "python",
   "pygments_lexer": "ipython3",
   "version": "3.10.5 (tags/v3.10.5:f377153, Jun  6 2022, 16:14:13) [MSC v.1929 64 bit (AMD64)]"
  },
  "orig_nbformat": 4,
  "vscode": {
   "interpreter": {
    "hash": "d629700add7d13df99efa7b6ee1fc1a3d9f6e4ac2336389d6054d4e516eee861"
   }
  }
 },
 "nbformat": 4,
 "nbformat_minor": 2
}
