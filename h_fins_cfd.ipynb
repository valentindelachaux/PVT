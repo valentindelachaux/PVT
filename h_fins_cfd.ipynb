{
 "cells": [
  {
   "cell_type": "code",
   "execution_count": null,
   "metadata": {},
   "outputs": [],
   "source": [
    "import math\n",
    "import model as ty\n",
    "import scipy.optimize as optim\n",
    "\n",
    "import numpy as np\n",
    "import pandas as pd\n",
    "import matplotlib.pyplot as plt\n",
    "\n",
    "import heat_transfer as bht"
   ]
  },
  {
   "cell_type": "code",
   "execution_count": null,
   "metadata": {},
   "outputs": [],
   "source": [
    "a = 0.001\n",
    "delta = 0.00335\n",
    "\n",
    "L_a = 0.050\n",
    "N_ail = 75\n",
    "k = 226\n",
    "\n",
    "L_riser = 6*0.180\n",
    "\n",
    "Q_f0 = -5.3/30\n",
    "\n",
    "DT = -5.59\n",
    "\n",
    "gam = Q_f0/(k*a*N_ail*delta*DT) "
   ]
  },
  {
   "cell_type": "code",
   "execution_count": null,
   "metadata": {},
   "outputs": [],
   "source": [
    "def gamma_int(a,k,h,delta,L_a,N_ail,L_riser):\n",
    "    Bi = ty.Biot(a,k,h,delta)\n",
    "\n",
    "    alpha = math.sqrt(2*Bi)\n",
    "    beta = math.sqrt(Bi/2)*(1/(1+a/delta))\n",
    "\n",
    "    arg = (alpha*L_a)/a\n",
    "    numerateur = (alpha/a)*math.sinh(arg) + ((beta*alpha)/a)*math.cosh(arg)\n",
    "    denominateur = math.cosh(arg) + beta*math.sinh(arg)\n",
    "\n",
    "    gamma = numerateur/denominateur\n",
    "\n",
    "    gamma_int = (k*a*N_ail*delta)*gamma/L_riser\n",
    "\n",
    "    return gamma_int"
   ]
  },
  {
   "cell_type": "code",
   "execution_count": null,
   "metadata": {},
   "outputs": [],
   "source": [
    "def gamma_val(h):\n",
    "    Bi = ty.Biot(a,k,h,delta)\n",
    "\n",
    "    alpha = math.sqrt(2*Bi)\n",
    "    beta = math.sqrt(Bi/2)*(1/(1+a/delta))\n",
    "\n",
    "    arg = (alpha*L_a)/a\n",
    "    numerateur = (alpha/a)*math.sinh(arg) + ((beta*alpha)/a)*math.cosh(arg)\n",
    "    denominateur = math.cosh(arg) + beta*math.sinh(arg)\n",
    "\n",
    "    gamma = numerateur/denominateur\n",
    "\n",
    "    gamma_int = (k*a*N_ail*delta)*gamma/L_riser\n",
    "\n",
    "    gamma_back = delta/(1/(3.+h))\n",
    "\n",
    "    return L_riser*(gamma_back+gamma_int)*DT - Q_f0"
   ]
  },
  {
   "cell_type": "code",
   "execution_count": null,
   "metadata": {},
   "outputs": [],
   "source": [
    "delta/(1/(1.4+3.))"
   ]
  },
  {
   "cell_type": "code",
   "execution_count": null,
   "metadata": {},
   "outputs": [],
   "source": [
    "gamma_int(a,k,1.+1.4,delta,L_a,N_ail,L_riser)"
   ]
  },
  {
   "cell_type": "code",
   "execution_count": null,
   "metadata": {},
   "outputs": [],
   "source": [
    "optim.fsolve(gamma_val,2.)"
   ]
  },
  {
   "cell_type": "code",
   "execution_count": null,
   "metadata": {},
   "outputs": [],
   "source": [
    "# Define T_abs_list, T_amb and DT_list and create df and pth\n",
    "\n",
    "T_abs_list = np.array([15,17,19,21,23,25,27,29,31,33,35])\n",
    "T_abs_list = T_abs_list + np.array(len(T_abs_list)*[273.15])\n",
    "\n",
    "T_amb = 25+273.15\n",
    "\n",
    "DT_list = []\n",
    "\n",
    "for i in range(len(T_abs_list)):\n",
    "    DT_list.append(T_abs_list[i]-T_amb)\n",
    "\n",
    "df = pd.DataFrame(index=DT_list)\n",
    "pth = pd.DataFrame(index=DT_list)"
   ]
  },
  {
   "cell_type": "code",
   "execution_count": null,
   "metadata": {},
   "outputs": [],
   "source": [
    "# Compute heat transfer coefficient for flat plates\n",
    "\n",
    "for i in range(len(T_abs_list)):\n",
    "    df.loc[DT_list[i],'Flat plate facing downward'] = bht.back_h_simple(T_abs_list[i],T_amb,45,1.6)\n",
    "    df.loc[DT_list[i],'Flat plate facing upward'] = bht.top_h_simple(T_abs_list[i],T_amb,45,1.6)"
   ]
  },
  {
   "cell_type": "code",
   "execution_count": null,
   "metadata": {},
   "outputs": [],
   "source": [
    "# Plot df\n",
    "\n",
    "plt.scatter(DT_list,df['Flat plate facing downward'],label=\"Facing downward\")\n",
    "plt.scatter(DT_list,df['Flat plate facing upward'],label=\"Facing upward\")\n",
    "plt.plot(DT_list,df['Flat plate facing downward'],\"--\")\n",
    "plt.plot(DT_list,df['Flat plate facing upward'],\"--\")\n",
    "\n",
    "for i in range(len(df['Flat plate facing downward'])):\n",
    "    plt.annotate(round(df['Flat plate facing downward'].iloc[i],1), (DT_list[i], df['Flat plate facing downward'].iloc[i]))\n",
    "    plt.annotate(round(df['Flat plate facing upward'].iloc[i],1), (DT_list[i], df['Flat plate facing upward'].iloc[i]))\n",
    "\n",
    "plt.scatter([-6],[2.2],label='EXTIA',c='grey')\n",
    "plt.annotate(2.2,(-6,2.2))\n",
    "\n",
    "plt.xticks(DT_list)\n",
    "plt.xlabel('T_plate_mean - T_amb (K)')\n",
    "plt.ylabel('External heat transfer coefficient (m2K/W)')\n",
    "plt.legend()\n",
    "plt.show()"
   ]
  },
  {
   "cell_type": "code",
   "execution_count": null,
   "metadata": {},
   "outputs": [],
   "source": [
    "# Compute heat transfer coefficients for fins\n",
    "\n",
    "theta = 45.\n",
    "longueur = 1.55\n",
    "D_list = [0.001,0.005,0.0075,0.010,0.015,0.020,0.025,0.030,0.035,0.040,0.050,0.060,0.1,0.5]\n",
    "L_fin = 0.020\n",
    "\n",
    "for i in range(len(D_list)):\n",
    "\n",
    "    for j in range(len(T_abs_list)):\n",
    "        if j<=5:\n",
    "            df.loc[DT_list[j],'Fins D = '+str(D_list[i])] = bht.back_h_fins(T_abs_list[j],T_amb,theta,longueur,D_list[i],L_fin)\n",
    "        else:\n",
    "            pass"
   ]
  },
  {
   "cell_type": "code",
   "execution_count": null,
   "metadata": {},
   "outputs": [],
   "source": [
    "# list_col = np.array(df.columns)\n",
    "list_col = ['Flat plate facing downward']+['Fins D = '+str(s) for s in [0.01,0.015,0.02,0.04,0.05,0.06,0.1,0.5]]\n",
    "\n",
    "for k in range(len(list_col)):\n",
    "    col = df[list_col[k]]\n",
    "    plt.scatter(DT_list,col,label=col.name,marker='x')\n",
    "    plt.plot(DT_list,col,\"--\")\n",
    "\n",
    "    # for i in range(len(col)):\n",
    "    #     plt.annotate(round(col.iloc[i],1), (DT_list[i], col.iloc[i]))\n",
    "\n",
    "plt.scatter([-6],[1.23],label='EXTIA',c='grey')\n",
    "plt.annotate(1.23,(-6,1.23))\n",
    "\n",
    "plt.xlabel('T_plate_mean - T_amb (K)')\n",
    "plt.ylabel('External heat transfer coefficient (m2K/W)')\n",
    "plt.legend()\n",
    "plt.show()"
   ]
  },
  {
   "cell_type": "code",
   "execution_count": null,
   "metadata": {},
   "outputs": [],
   "source": [
    "pth"
   ]
  },
  {
   "cell_type": "code",
   "execution_count": null,
   "metadata": {},
   "outputs": [],
   "source": [
    "# Compute thermal power for fins\n",
    "\n",
    "for i in range(len(D_list)):\n",
    "\n",
    "    N_ail = (D_list[i]+300*delta)/(D_list[i]+a)\n",
    "\n",
    "    for j in range(len(T_abs_list)):\n",
    "\n",
    "        flat = 300*L_riser*df.loc[DT_list[j],'Fins D = '+str(D_list[i])]*delta*DT_list[j]\n",
    "        pth.loc[DT_list[j],'Pth fins D = '+str(D_list[i])] = flat + 300*L_riser*gamma_int(a,k,df.loc[DT_list[j],'Fins D = '+str(D_list[i])],delta,L_a,N_ail,L_riser)*DT_list[j]"
   ]
  },
  {
   "cell_type": "code",
   "execution_count": null,
   "metadata": {},
   "outputs": [],
   "source": [
    "list_col = np.array(pth.columns)\n",
    "print(list_col)"
   ]
  },
  {
   "cell_type": "code",
   "execution_count": null,
   "metadata": {},
   "outputs": [],
   "source": [
    "list_col = np.array(pth.columns)\n",
    "# list_col = ['Pth fins D = 0.001','Pth fins D = 0.005','Pth fins D = 0.0075','Pth fins D = 0.01','Pth fins D = 0.015','Pth fins D = 0.02']\n",
    "\n",
    "for k in range(len(list_col)):\n",
    "    col = pth[list_col[k]]\n",
    "    plt.scatter(DT_list,col,label=col.name,marker='x')\n",
    "    plt.plot(DT_list,col,\"--\")\n",
    "\n",
    "    # for i in range(len(col)):\n",
    "    #     plt.annotate(round(col.iloc[i],1), (DT_list[i], col.iloc[i]))\n",
    "\n",
    "plt.xlabel('T_plate_mean - T_amb (K)')\n",
    "plt.ylabel('Power (W)')\n",
    "plt.legend()\n",
    "plt.show()"
   ]
  },
  {
   "cell_type": "code",
   "execution_count": null,
   "metadata": {},
   "outputs": [],
   "source": [
    "pth"
   ]
  },
  {
   "cell_type": "code",
   "execution_count": null,
   "metadata": {},
   "outputs": [],
   "source": [
    "-pth.loc[-6].iloc[0]"
   ]
  },
  {
   "cell_type": "code",
   "execution_count": null,
   "metadata": {},
   "outputs": [],
   "source": [
    "plt.scatter(D_list,-pth.loc[-6])\n",
    "plt.plot(D_list,-pth.loc[-6],'--')\n",
    "\n",
    "for i in range(len(D_list)):\n",
    "    plt.annotate(round(-pth.loc[-6].iloc[i]), (D_list[i], -pth.loc[-6].iloc[i]))\n",
    "\n",
    "plt.xlabel('Spacing D (m)')\n",
    "plt.ylabel('Power (W)')"
   ]
  },
  {
   "cell_type": "code",
   "execution_count": null,
   "metadata": {},
   "outputs": [],
   "source": []
  },
  {
   "cell_type": "code",
   "execution_count": null,
   "metadata": {},
   "outputs": [],
   "source": [
    "D_list"
   ]
  },
  {
   "cell_type": "code",
   "execution_count": null,
   "metadata": {},
   "outputs": [],
   "source": [
    "3.196*L_riser*300*delta*6"
   ]
  },
  {
   "cell_type": "code",
   "execution_count": null,
   "metadata": {},
   "outputs": [],
   "source": [
    "300*L_riser*1.7*delta*6+35"
   ]
  },
  {
   "cell_type": "code",
   "execution_count": null,
   "metadata": {},
   "outputs": [],
   "source": [
    "48-25"
   ]
  },
  {
   "cell_type": "code",
   "execution_count": null,
   "metadata": {},
   "outputs": [],
   "source": [
    "for i in range(len(D_list)):\n",
    "\n",
    "    \n",
    "\n",
    "    for j in range(len(T_abs_list)):\n",
    "\n",
    "\n",
    "\n",
    "        df.loc[DT_list[j],'Fins D = '+str(D_list[i])] = bht.back_h_fins(T_abs_list[j],T_amb,theta,longueur,D_list[i],L_fin)"
   ]
  },
  {
   "cell_type": "code",
   "execution_count": null,
   "metadata": {},
   "outputs": [],
   "source": [
    "0.9*5.67*1E-8*(273.15*2+0.5+6.5)*((273.15+0.5)**2+(273.15+6.5)**2)"
   ]
  },
  {
   "cell_type": "code",
   "execution_count": null,
   "metadata": {},
   "outputs": [],
   "source": []
  }
 ],
 "metadata": {
  "kernelspec": {
   "display_name": "model23",
   "language": "python",
   "name": "python3"
  },
  "language_info": {
   "codemirror_mode": {
    "name": "ipython",
    "version": 3
   },
   "file_extension": ".py",
   "mimetype": "text/x-python",
   "name": "python",
   "nbconvert_exporter": "python",
   "pygments_lexer": "ipython3",
   "version": "3.10.5"
  },
  "orig_nbformat": 4,
  "vscode": {
   "interpreter": {
    "hash": "d629700add7d13df99efa7b6ee1fc1a3d9f6e4ac2336389d6054d4e516eee861"
   }
  }
 },
 "nbformat": 4,
 "nbformat_minor": 2
}
