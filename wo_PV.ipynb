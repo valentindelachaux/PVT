{
 "cells": [
  {
   "cell_type": "code",
   "execution_count": 1,
   "metadata": {},
   "outputs": [],
   "source": [
    "import math\n",
    "from datetime import datetime\n",
    "import openpyxl as opxl\n",
    "from openpyxl.utils.dataframe import dataframe_to_rows\n",
    "import pandas as pd\n",
    "import numpy as np\n",
    "import matplotlib.pyplot as plt\n",
    "import model as ty\n",
    "import proc as pr\n",
    "import matplotlib.ticker as mtick\n",
    "\n",
    "from IPython.core.display import HTML\n",
    "\n",
    "import heat_transfer as bht\n",
    "\n",
    "import fluids as fds\n",
    "import ht \n",
    "\n",
    "import general as gen\n",
    "\n",
    "import os"
   ]
  },
  {
   "cell_type": "code",
   "execution_count": 45,
   "metadata": {},
   "outputs": [
    {
     "name": "stdout",
     "output_type": "stream",
     "text": [
      "c:\\Users\\valen\\Dropbox (DualSun)\\PC\\Documents\\GitHub\\PVT-perf-1Dmodel\n",
      "TUV\n"
     ]
    }
   ],
   "source": [
    "par = pr.create_par()\n",
    "\n",
    "data = r'\\230104_TUV_test_conditions_V4.45.xlsx'\n",
    "# data = r'\\210914_TUV_test_conditions_SPRING.xlsx'\n",
    "\n",
    "# if data table used, the used file is \"condi\"\n",
    "condi = pr.create_inputs_from_excel(data)\n",
    "\n",
    "# Pour titre fichier outputs\n",
    "moment = str(datetime.now().hour)+'-'+str(datetime.now().minute)+'-'+str(datetime.now().second)\n",
    "\n",
    "print(par[\"test\"])"
   ]
  },
  {
   "cell_type": "code",
   "execution_count": 49,
   "metadata": {},
   "outputs": [],
   "source": [
    "# Parameters for MPE simple simulation\n",
    "\n",
    "# l = 2*(0.0155+math.pi*0.00125) # périmètre de \"tube\" à l'air libre pour les MPE orthogonaux\n",
    "\n",
    "# Largeur\n",
    "\n",
    "l = (97.3 + 2*3.)/1000 # MPE simple\n",
    "l_mpe = 0.0973 \n",
    "\n",
    "h_back = 5. # external heat transfer coefficient on the rear side\n",
    "\n",
    "h_back_top = 4.4\n",
    "h_back_bottom = 7.3\n",
    "\n",
    "delta = 0.00035 # épaisseur de peau de l'échangeur (épaisseur de l'aluminium du MPE)\n",
    "k_alu = 226\n",
    "R_tube = delta/k_alu + 1/250 # épaisseur/conductivité\n",
    "h_tot = h_back\n",
    "\n",
    "\n",
    "L_big = 1.562 # longueur des bigoudis\n",
    "L_flat = (2*(669.6 + 60. + 10. + 27.37 +10. +40./2))/1000 # MPE simple\n",
    "L_V445 = 1.03*1.050 # longueur V4.45\n",
    "\n",
    "N_harp_big = 14"
   ]
  },
  {
   "cell_type": "code",
   "execution_count": 50,
   "metadata": {},
   "outputs": [
    {
     "data": {
      "text/plain": [
       "1.4732193000000002"
      ]
     },
     "execution_count": 50,
     "metadata": {},
     "output_type": "execute_result"
    }
   ],
   "source": [
    "l_mpe*L_V445*N_harp_big"
   ]
  },
  {
   "cell_type": "code",
   "execution_count": 37,
   "metadata": {},
   "outputs": [
    {
     "data": {
      "text/plain": [
       "4.36191911871484"
      ]
     },
     "execution_count": 37,
     "metadata": {},
     "output_type": "execute_result"
    }
   ],
   "source": [
    "# en mK/W\n",
    "R_tube/l_mpe"
   ]
  },
  {
   "cell_type": "code",
   "execution_count": 40,
   "metadata": {},
   "outputs": [
    {
     "data": {
      "text/plain": [
       "0.00942477796076938"
      ]
     },
     "execution_count": 40,
     "metadata": {},
     "output_type": "execute_result"
    }
   ],
   "source": [
    "2*math.pi*(0.003/2)"
   ]
  },
  {
   "cell_type": "code",
   "execution_count": 38,
   "metadata": {},
   "outputs": [
    {
     "data": {
      "text/plain": [
       "0.4244131815783876"
      ]
     },
     "execution_count": 38,
     "metadata": {},
     "output_type": "execute_result"
    }
   ],
   "source": [
    "1/(2*math.pi*(0.003/2)*250)"
   ]
  },
  {
   "cell_type": "code",
   "execution_count": null,
   "metadata": {},
   "outputs": [],
   "source": [
    "print(10*A_tot_top)\n",
    "print(10*A_tot_bottom)\n",
    "print('10*l=', 10*l)\n",
    "print('1,42*10*l',1.42*10*l)\n",
    "print('l=',l)\n",
    "print('L=',L)\n",
    "print(10*l*L)"
   ]
  },
  {
   "cell_type": "code",
   "execution_count": null,
   "metadata": {},
   "outputs": [],
   "source": [
    "h_back_top_list = np.linspace(0.1,4.,20)\n",
    "A1_0_list = []\n",
    "\n",
    "for h in h_back_top_list:\n",
    "    df_par,df,X = ty.simu_condi_mpe_big(par,condi,l_big,L_big,h,h_back_bottom,N_harp_big)\n",
    "    A1_0_list.append(-X[0][0] - X[0][2]*(0-3))"
   ]
  },
  {
   "cell_type": "code",
   "execution_count": null,
   "metadata": {},
   "outputs": [],
   "source": [
    "plt.plot(h_back_top_list,A1_0_list)\n",
    "plt.xlabel('h_back_top')\n",
    "plt.ylabel('A1_0')\n",
    "plt.grid()\n",
    "plt.show()\n",
    "\n",
    "print(np.polyfit(np.array(h_back_top_list),np.array(A1_0_list),deg=1))"
   ]
  },
  {
   "cell_type": "code",
   "execution_count": 47,
   "metadata": {},
   "outputs": [
    {
     "data": {
      "text/html": [
       "<table border=\"1\" class=\"dataframe\">\n",
       "  <thead>\n",
       "    <tr style=\"text-align: right;\">\n",
       "      <th></th>\n",
       "      <th>-(T_m - T_a)</th>\n",
       "      <th>N_test</th>\n",
       "      <th>m_dot</th>\n",
       "      <th>T_guess</th>\n",
       "      <th>T_amb</th>\n",
       "      <th>u</th>\n",
       "      <th>T_abs</th>\n",
       "      <th>T_fluid_in</th>\n",
       "      <th>T_fluid_out</th>\n",
       "      <th>h_back</th>\n",
       "      <th>DT</th>\n",
       "      <th>T_m</th>\n",
       "      <th>T_m en °C</th>\n",
       "      <th>c_p(T)</th>\n",
       "      <th>Q_dot</th>\n",
       "      <th>Q_dot / A_G</th>\n",
       "    </tr>\n",
       "  </thead>\n",
       "  <tbody>\n",
       "    <tr>\n",
       "      <th>row</th>\n",
       "      <td>10.152723</td>\n",
       "      <td>0</td>\n",
       "      <td>0.03999</td>\n",
       "      <td>293.15</td>\n",
       "      <td>298.223</td>\n",
       "      <td>0.3</td>\n",
       "      <td>293.15</td>\n",
       "      <td>287.553</td>\n",
       "      <td>288.587554</td>\n",
       "      <td>4.4</td>\n",
       "      <td>1.034554</td>\n",
       "      <td>288.070277</td>\n",
       "      <td>14.920277</td>\n",
       "      <td>4189.850239</td>\n",
       "      <td>173.341644</td>\n",
       "      <td>89.495663</td>\n",
       "    </tr>\n",
       "    <tr>\n",
       "      <th>row</th>\n",
       "      <td>10.237161</td>\n",
       "      <td>1</td>\n",
       "      <td>0.03997</td>\n",
       "      <td>293.15</td>\n",
       "      <td>298.202</td>\n",
       "      <td>0.3</td>\n",
       "      <td>293.15</td>\n",
       "      <td>287.443</td>\n",
       "      <td>288.486679</td>\n",
       "      <td>4.4</td>\n",
       "      <td>1.043679</td>\n",
       "      <td>287.964839</td>\n",
       "      <td>14.814839</td>\n",
       "      <td>4189.974220</td>\n",
       "      <td>174.788299</td>\n",
       "      <td>90.242566</td>\n",
       "    </tr>\n",
       "    <tr>\n",
       "      <th>row</th>\n",
       "      <td>2.796875</td>\n",
       "      <td>2</td>\n",
       "      <td>0.04156</td>\n",
       "      <td>293.15</td>\n",
       "      <td>297.901</td>\n",
       "      <td>0.3</td>\n",
       "      <td>293.15</td>\n",
       "      <td>294.967</td>\n",
       "      <td>295.241250</td>\n",
       "      <td>4.4</td>\n",
       "      <td>0.274250</td>\n",
       "      <td>295.104125</td>\n",
       "      <td>21.954125</td>\n",
       "      <td>4183.397495</td>\n",
       "      <td>47.681718</td>\n",
       "      <td>24.617898</td>\n",
       "    </tr>\n",
       "    <tr>\n",
       "      <th>row</th>\n",
       "      <td>2.444605</td>\n",
       "      <td>3</td>\n",
       "      <td>0.04172</td>\n",
       "      <td>293.15</td>\n",
       "      <td>297.526</td>\n",
       "      <td>0.3</td>\n",
       "      <td>293.15</td>\n",
       "      <td>294.962</td>\n",
       "      <td>295.200790</td>\n",
       "      <td>4.4</td>\n",
       "      <td>0.238790</td>\n",
       "      <td>295.081395</td>\n",
       "      <td>21.931395</td>\n",
       "      <td>4183.413145</td>\n",
       "      <td>41.676556</td>\n",
       "      <td>21.517455</td>\n",
       "    </tr>\n",
       "    <tr>\n",
       "      <th>row</th>\n",
       "      <td>-4.899641</td>\n",
       "      <td>4</td>\n",
       "      <td>0.04224</td>\n",
       "      <td>293.15</td>\n",
       "      <td>297.509</td>\n",
       "      <td>0.3</td>\n",
       "      <td>293.15</td>\n",
       "      <td>302.645</td>\n",
       "      <td>302.172283</td>\n",
       "      <td>4.4</td>\n",
       "      <td>-0.472717</td>\n",
       "      <td>302.408641</td>\n",
       "      <td>29.258641</td>\n",
       "      <td>4179.782602</td>\n",
       "      <td>-83.460091</td>\n",
       "      <td>-43.090143</td>\n",
       "    </tr>\n",
       "    <tr>\n",
       "      <th>row</th>\n",
       "      <td>-4.442765</td>\n",
       "      <td>5</td>\n",
       "      <td>0.04206</td>\n",
       "      <td>293.15</td>\n",
       "      <td>297.985</td>\n",
       "      <td>0.3</td>\n",
       "      <td>293.15</td>\n",
       "      <td>302.643</td>\n",
       "      <td>302.212531</td>\n",
       "      <td>4.4</td>\n",
       "      <td>-0.430469</td>\n",
       "      <td>302.427765</td>\n",
       "      <td>29.277765</td>\n",
       "      <td>4179.776458</td>\n",
       "      <td>-75.677086</td>\n",
       "      <td>-39.071806</td>\n",
       "    </tr>\n",
       "  </tbody>\n",
       "</table>"
      ],
      "text/plain": [
       "<IPython.core.display.HTML object>"
      ]
     },
     "metadata": {},
     "output_type": "display_data"
    },
    {
     "name": "stdout",
     "output_type": "stream",
     "text": [
      "A1 = 8.81\n"
     ]
    }
   ],
   "source": [
    "# Test MPE \n",
    "\n",
    "# df_par,df,X = ty.simu_condi_mpe(par,condi,l,h_back,L)\n",
    "\n",
    "df_par,df,X = ty.simu_condi_mpe_big(par,condi,l_big,L_V445,h_back_top,h_back_bottom,N_harp_big)\n",
    "\n",
    "# df_par,df,X = ty.simu_condi_mpe_big(par,condi,A_tot_top,h_back_top,A_tot_bottom,h_back_bottom)\n",
    "\n",
    "display(HTML(df.to_html()))\n",
    "\n",
    "print(\"A1 =\",round(X[0][0],2))"
   ]
  },
  {
   "cell_type": "code",
   "execution_count": null,
   "metadata": {},
   "outputs": [],
   "source": [
    "\n",
    "### Creating Excel outputs\n",
    "\n",
    "# prefixe = \"MPE\"\n",
    "\n",
    "# suffixe = prefixe+str(par[\"ailette\"])+r'-'+moment+r'.xlsx'\n",
    "# fichier_o = pathout+suffixe\n",
    "\n",
    "# for d in dataframe_to_rows(df_par, index=True, header=False):\n",
    "#     sheet_o.append(d)\n",
    "\n",
    "# wso = wbo.create_sheet(\"Outputs\")\n",
    "\n",
    "# for d in dataframe_to_rows(df, index=True, header=True):\n",
    "#     wso.append(d)\n",
    "\n",
    "# huit = len(X[0])-1\n",
    "\n",
    "# index_coeff = ['a1','a2','a3','a4','a6','a7','a8']\n",
    "# ws_lsm = wbo.create_sheet(\"LSM\")\n",
    "# ws_lsm['A'+str(1)] = 'a0'\n",
    "# ws_lsm['B'+str(1)] = X[0][len(X[0])-1]\n",
    "\n",
    "# print('a0 : ',round(X[0][len(X[0])-1],3))\n",
    "\n",
    "# ws_lsm['C'+str(1)] = X[3][len(X[0])-1]\n",
    "# for l in range(huit):\n",
    "#     ws_lsm['A'+str(l+2)] = index_coeff[l]\n",
    "#     if l != 3:\n",
    "#         ws_lsm['B'+str(l+2)] = -X[0][l]\n",
    "#         print(index_coeff[l],' : ',round(-X[0][l],3))\n",
    "\n",
    "#     else:\n",
    "#         ws_lsm['B'+str(l+2)] = X[0][l]\n",
    "#         print(index_coeff[l],' : ',round(X[0][l],3))\n",
    "\n",
    "#     ws_lsm['C'+str(l+2)] = X[3][l]\n",
    "\n",
    "# ws_lsm['A'+str(huit+2)] = 'a0 (DS) at 1,3 m/s'\n",
    "# ws_lsm['B'+str(huit+2)] = X[0][len(X[0])-1] - (-X[0][4]*(1.3-3))\n",
    "# print(round(X[0][len(X[0])-1] - (-X[0][4]*(1.3-3)),3)*100,'%')\n",
    "\n",
    "# ws_lsm['A'+str(huit+3)] = 'a1 (DS) at 1,3 m/s'\n",
    "# ws_lsm['B'+str(huit+3)] = -X[0][0] - X[0][2]*(1.3-3)\n",
    "# print(round(-X[0][0] - X[0][2]*(1.3-3),1))\n",
    "    \n",
    "# wbo.save(filename = fichier_o)\n",
    "# wbo.close()\n",
    "\n",
    "# ### End of creation of Excel sheet\n",
    "\n",
    "# print(df)\n",
    "\n",
    "# print(\"Finished\")"
   ]
  }
 ],
 "metadata": {
  "kernelspec": {
   "display_name": "Python 3.10.5 ('model23')",
   "language": "python",
   "name": "python3"
  },
  "language_info": {
   "codemirror_mode": {
    "name": "ipython",
    "version": 3
   },
   "file_extension": ".py",
   "mimetype": "text/x-python",
   "name": "python",
   "nbconvert_exporter": "python",
   "pygments_lexer": "ipython3",
   "version": "3.10.5 (tags/v3.10.5:f377153, Jun  6 2022, 16:14:13) [MSC v.1929 64 bit (AMD64)]"
  },
  "orig_nbformat": 4,
  "vscode": {
   "interpreter": {
    "hash": "d629700add7d13df99efa7b6ee1fc1a3d9f6e4ac2336389d6054d4e516eee861"
   }
  }
 },
 "nbformat": 4,
 "nbformat_minor": 2
}
