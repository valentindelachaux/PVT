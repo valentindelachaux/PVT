{
 "cells": [
  {
   "cell_type": "code",
   "execution_count": null,
   "metadata": {},
   "outputs": [],
   "source": [
    "# Initialization\n",
    "\n",
    "import math\n",
    "from datetime import datetime\n",
    "import openpyxl as opxl\n",
    "from openpyxl.utils.dataframe import dataframe_to_rows\n",
    "import pandas as pd\n",
    "import numpy as np\n",
    "import matplotlib.pyplot as plt\n",
    "import model as ty\n",
    "import proc as pr\n",
    "import matplotlib.ticker as mtick\n",
    "import sklearn.metrics\n",
    "\n",
    "from IPython.core.display import HTML\n",
    "\n",
    "import heat_transfer as bht\n",
    "\n",
    "import fluids as fds\n",
    "import ht \n",
    "\n",
    "import general as gen\n",
    "\n",
    "import os\n",
    "\n",
    "import scipy.integrate as integrate"
   ]
  },
  {
   "cell_type": "code",
   "execution_count": null,
   "metadata": {},
   "outputs": [],
   "source": [
    "# Crée un dictionnaire par et récupère les données du fichiers 'Inputs.xlsx' avec pd.read_excel\n",
    "par = pr.create_par()\n",
    "\n",
    "# Trouve le path pour le fichier d'outputs, crée un Excel avec openpyxl et les renvoie\n",
    "pathout,wbo = pr.create_out()\n",
    "sheet_o = wbo.active\n",
    "sheet_o.title = \"Inputs\"\n",
    "# Pour titre fichier outputs\n",
    "moment = str(datetime.now().hour)+'-'+str(datetime.now().minute)+'-'+str(datetime.now().second)\n",
    "\n",
    "# data = r'\\220321_TUV_test_condi_output_outputtions.xlsx'\n",
    "# data = r'\\2205_TUV_test_conditions_V4.3.1.xlsx'\n",
    "# data = r'\\230104_TUV_test_conditions_V4.41_MPP_0flowrate.xlsx'\n",
    "data = r'\\230104_TUV_test_conditions_V4.41_MPP.xlsx'\n",
    "# data = r'\\condi_TSL.xlsx'\n",
    "# data = r'\\210914_TUV_test_conditions_SPRING.xlsx'\n",
    "\n",
    "condi = pr.create_inputs_from_excel(data)"
   ]
  },
  {
   "cell_type": "code",
   "execution_count": null,
   "metadata": {},
   "outputs": [],
   "source": [
    "ty.change_air_layer(par,0.000)"
   ]
  },
  {
   "cell_type": "code",
   "execution_count": null,
   "metadata": {},
   "outputs": [],
   "source": [
    "par[\"coeff_h_top_free\"] = 2.5\n",
    "par[\"coeff_h_top_forced\"] = 2.\n",
    "par[\"coeff_h_back\"] = 2.5"
   ]
  },
  {
   "cell_type": "code",
   "execution_count": null,
   "metadata": {},
   "outputs": [],
   "source": [
    "df_par,df_res,X,list_df,list_df_historic = ty.simu_condi(par,condi)\n",
    "\n",
    "df_res[\"S_loc\"] = float(df_par.loc[\"W\"])*float(df_par.loc[\"L_riser\"])*df_res[\"S\"]\n",
    "df_res[\"-Q_fluid_back\"] = -df_res[\"Q_fluid_back\"]\n",
    "# df_res[\"-Q_f01\"] = -df_res[\"Q_f01\"]"
   ]
  },
  {
   "cell_type": "code",
   "execution_count": null,
   "metadata": {},
   "outputs": [],
   "source": [
    "# Process condi\n",
    "\n",
    "condi_output = condi.copy()\n",
    "\n",
    "dict = {'ta':'T_amb','U':'u','mdot':'m_dot','tin':'T_fluid_in','te':'T_fluid_out','tm':'T_m'}\n",
    "\n",
    "column_headers = list(condi_output.columns.values)\n",
    "\n",
    "for i in range(len(column_headers)):\n",
    "    head = column_headers[i]\n",
    "    if head in list(dict.keys()):\n",
    "        condi_output.rename(columns = {head:dict[head]}, inplace = True)\n",
    "\n",
    "condi_output['Gp'] = 0.*condi_output['G']\n",
    "condi_output['T_fluid_in'] = condi_output['T_fluid_in']+273.15\n",
    "condi_output['T_fluid_out'] = condi_output['T_fluid_out']+273.15\n",
    "condi_output['T_amb'] = condi_output['T_amb']+273.15\n",
    "\n",
    "condi_output = condi_output.reset_index()\n",
    "\n",
    "condi_output = condi_output.drop(columns=[\"index\",\"Date\",\"UTC\"])\n",
    "\n",
    "condi_output = condi_output.astype('float64')\n"
   ]
  },
  {
   "cell_type": "code",
   "execution_count": null,
   "metadata": {},
   "outputs": [],
   "source": [
    "SK_condi_output = ty.find_a_i(condi_output,par)\n",
    "SK_df_res = ty.find_a_i(df_res,par)\n",
    "pr.display_a_i(ty.find_a_i(condi_output,par))\n",
    "pr.display_a_i(ty.find_a_i(df_res,par))"
   ]
  },
  {
   "cell_type": "code",
   "execution_count": null,
   "metadata": {},
   "outputs": [],
   "source": [
    "%load_ext autoreload\n",
    "%autoreload 2"
   ]
  },
  {
   "cell_type": "code",
   "execution_count": null,
   "metadata": {},
   "outputs": [],
   "source": [
    "%reload_ext autoreload"
   ]
  },
  {
   "cell_type": "code",
   "execution_count": null,
   "metadata": {},
   "outputs": [],
   "source": [
    "pr.disp_html(df_res)\n",
    "pr.display_a_i(X)"
   ]
  },
  {
   "cell_type": "code",
   "execution_count": null,
   "metadata": {},
   "outputs": [],
   "source": [
    "mse = sklearn.metrics.mean_squared_error(df_res['Q_dot / A_G'],condi_output['Q_dot / A_G'])\n",
    "print(math.sqrt(mse))"
   ]
  },
  {
   "cell_type": "code",
   "execution_count": null,
   "metadata": {},
   "outputs": [],
   "source": [
    "print('RMSE en pourcentage de la valeur moyenne de puissance thermique =',round(math.sqrt(mse)/condi_output['Q_dot / A_G'].mean()*100,2),'%')"
   ]
  },
  {
   "cell_type": "code",
   "execution_count": null,
   "metadata": {},
   "outputs": [],
   "source": [
    "max(abs(df_res['Q_dot / A_G']-condi_output['Q_dot / A_G']))/condi_output['Q_dot / A_G'].mean()"
   ]
  },
  {
   "cell_type": "code",
   "execution_count": null,
   "metadata": {},
   "outputs": [],
   "source": [
    "df_res['Q_dot / A_G'].mean()"
   ]
  },
  {
   "cell_type": "code",
   "execution_count": null,
   "metadata": {},
   "outputs": [],
   "source": [
    "-df_res.loc[df_res[\"u\"]==u_list[i]]['-(T_m - T_a)']"
   ]
  },
  {
   "cell_type": "code",
   "execution_count": null,
   "metadata": {},
   "outputs": [],
   "source": [
    "df_res = df_res.assign(SK_power=0.)"
   ]
  },
  {
   "cell_type": "code",
   "execution_count": null,
   "metadata": {},
   "outputs": [],
   "source": [
    "for i in range(len(df_res)):\n",
    "    df_res.loc[i,'SK_power'] = (1/float(df_par.loc[\"A_G\"]))*pr.comp_power_coeff(SK_df_res[0],float(df_par.loc[\"A_G\"]),df_res.loc[i,'T_fluid_out'],df_res.loc[i,'G'],df_res.loc[i,'Gp'],df_res.loc[i,'T_fluid_in'],df_res.loc[i,'T_amb'],df_res.loc[i,'u'])"
   ]
  },
  {
   "cell_type": "code",
   "execution_count": null,
   "metadata": {},
   "outputs": [],
   "source": [
    "condi_output = condi_output.assign(SK_power=0.)"
   ]
  },
  {
   "cell_type": "code",
   "execution_count": null,
   "metadata": {},
   "outputs": [],
   "source": [
    "condi_output = condi_output.assign(TUV_power=0.)"
   ]
  },
  {
   "cell_type": "code",
   "execution_count": null,
   "metadata": {},
   "outputs": [],
   "source": [
    "for i in range(len(condi_output)):\n",
    "    condi_output.loc[i,'SK_power'] = (1/float(df_par.loc[\"A_G\"]))*pr.comp_power_coeff(SK_condi_output[0],float(df_par.loc[\"A_G\"]),condi_output.loc[i,'T_fluid_out'],condi_output.loc[i,'G'],condi_output.loc[i,'Gp'],condi_output.loc[i,'T_fluid_in'],condi_output.loc[i,'T_amb'],condi_output.loc[i,'u'])"
   ]
  },
  {
   "cell_type": "code",
   "execution_count": null,
   "metadata": {},
   "outputs": [],
   "source": [
    "TUV_coeff = [0.399,16.798,0,1.1416,0,0,0.0127,0,0]"
   ]
  },
  {
   "cell_type": "code",
   "execution_count": null,
   "metadata": {},
   "outputs": [],
   "source": [
    "SK_condi_output"
   ]
  },
  {
   "cell_type": "code",
   "execution_count": null,
   "metadata": {},
   "outputs": [],
   "source": [
    "pr.display_a_i(SK_condi_output)"
   ]
  },
  {
   "cell_type": "code",
   "execution_count": null,
   "metadata": {},
   "outputs": [],
   "source": [
    "for i in range(len(condi_output)):\n",
    "    condi_output.loc[i,'TUV_power'] = (1/float(df_par.loc[\"A_G\"]))*pr.comp_power_coeff(TUV_coeff,float(df_par.loc[\"A_G\"]),condi_output.loc[i,'T_fluid_out'],condi_output.loc[i,'G'],condi_output.loc[i,'Gp'],condi_output.loc[i,'T_fluid_in'],condi_output.loc[i,'T_amb'],condi_output.loc[i,'u'])"
   ]
  },
  {
   "cell_type": "code",
   "execution_count": null,
   "metadata": {},
   "outputs": [],
   "source": [
    "df_res.loc[17,'T_fluid_out']"
   ]
  },
  {
   "cell_type": "code",
   "execution_count": null,
   "metadata": {},
   "outputs": [],
   "source": [
    "pr.disp_html(df_res)"
   ]
  },
  {
   "cell_type": "code",
   "execution_count": null,
   "metadata": {},
   "outputs": [],
   "source": [
    "condi_39 = condi_output.loc[condi_output[\"u\"]==3.9].copy()"
   ]
  },
  {
   "cell_type": "code",
   "execution_count": null,
   "metadata": {},
   "outputs": [],
   "source": [
    "Xbis = ty.find_a_i(condi_39,par)"
   ]
  },
  {
   "cell_type": "code",
   "execution_count": null,
   "metadata": {},
   "outputs": [],
   "source": [
    "pr.display_a_i(Xbis)"
   ]
  },
  {
   "cell_type": "code",
   "execution_count": null,
   "metadata": {},
   "outputs": [],
   "source": [
    "9.697+(3.9-3)*8.727"
   ]
  },
  {
   "cell_type": "code",
   "execution_count": null,
   "metadata": {},
   "outputs": [],
   "source": [
    "0.212-(3.9-3)*-0.191"
   ]
  },
  {
   "cell_type": "code",
   "execution_count": null,
   "metadata": {},
   "outputs": [],
   "source": [
    "intercept/1000"
   ]
  },
  {
   "cell_type": "code",
   "execution_count": null,
   "metadata": {},
   "outputs": [],
   "source": [
    "slope"
   ]
  },
  {
   "cell_type": "code",
   "execution_count": null,
   "metadata": {},
   "outputs": [],
   "source": [
    "# u_list = [0.7,2.1,3.9]\n",
    "u_list = [0.7,2.1,3.9]\n",
    "\n",
    "color_list = ['blue','red','green','orange','cyan','pink']\n",
    "\n",
    "for i in range(len(u_list)):\n",
    "\n",
    "    plt.scatter(-df_res.loc[df_res[\"u\"]==u_list[i]]['-(T_m - T_a)'],df_res.loc[df_res[\"u\"]==u_list[i]]['Q_dot / A_G'],marker=\"+\",color=color_list[2*i],label='Model 1D - u = '+str(u_list[i])+' m/s')\n",
    "    plt.scatter(condi_output.loc[condi_output[\"u\"]==u_list[i]]['tm-ta'],condi_output.loc[condi_output[\"u\"]==u_list[i]]['Q_dot / A_G'],marker='+',color=color_list[2*i+1],label='TÜV - u = '+str(u_list[i])+' m/s')\n",
    "\n",
    "    plt.plot(-df_res.loc[df_res[\"u\"]==u_list[i]]['-(T_m - T_a)'],df_res.loc[df_res[\"u\"]==u_list[i]]['SK_power'])\n",
    "    plt.plot(condi_output.loc[condi_output[\"u\"]==u_list[i]]['tm-ta'],condi_output.loc[condi_output[\"u\"]==u_list[i]]['SK_power'])\n",
    "\n",
    "    plt.plot(condi_output.loc[condi_output[\"u\"]==u_list[i]]['tm-ta'],condi_output.loc[condi_output[\"u\"]==u_list[i]]['TUV_power'])\n",
    "\n",
    "    # plt.plot(condi_39['tm-ta'], fitLine, c='r')\n",
    "\n",
    "    # plt.plot(condi_39['tm-ta'], fitLine2, c='g')\n",
    "\n",
    "plt.xlabel('Tm - Ta (K)')\n",
    "plt.ylabel('Q_dot / A_G (W/m2 coll.)')\n",
    "\n",
    "plt.grid()\n",
    "plt.legend()\n",
    "plt.show()\n"
   ]
  },
  {
   "cell_type": "code",
   "execution_count": null,
   "metadata": {},
   "outputs": [],
   "source": [
    "from scipy import stats\n",
    "#linregress() renvoie plusieurs variables de retour. On s'interessera \n",
    "# particulierement au slope et intercept\n",
    "slope, intercept, r_value, p_value, std_err = stats.linregress(condi_39['tm-ta'], condi_39['Q_dot / A_G'])"
   ]
  },
  {
   "cell_type": "code",
   "execution_count": null,
   "metadata": {},
   "outputs": [],
   "source": [
    "def predict(x):\n",
    "   return slope * x + intercept"
   ]
  },
  {
   "cell_type": "code",
   "execution_count": null,
   "metadata": {},
   "outputs": [],
   "source": [
    "def predictp(x):\n",
    "    return -17.55 * x + 0.384*1000"
   ]
  },
  {
   "cell_type": "code",
   "execution_count": null,
   "metadata": {},
   "outputs": [],
   "source": [
    "fitLine = predict(condi_39['tm-ta'])"
   ]
  },
  {
   "cell_type": "code",
   "execution_count": null,
   "metadata": {},
   "outputs": [],
   "source": [
    "fitLine2 = predictp(condi_39['tm-ta'])"
   ]
  },
  {
   "cell_type": "code",
   "execution_count": null,
   "metadata": {},
   "outputs": [],
   "source": [
    "pr.display_a_i(SK_condi_output)"
   ]
  },
  {
   "cell_type": "code",
   "execution_count": null,
   "metadata": {},
   "outputs": [],
   "source": [
    "# Epaisseur d'ailette\n",
    "\n",
    "par[\"Heta\"] = 0.020\n",
    "par[\"L_f0\"] = 0.020\n",
    "par[\"D\"] = 0.014\n",
    "\n",
    "k_list = [0.2,0.5,1,30,100,237]\n",
    "\n",
    "Lf0_list = [0.0001,0.010,0.015,0.020,0.025,0.030,0.035,0.040,0.045,0.050]\n",
    "\n",
    "lambd_list = [0.001,0.002,0.003,0.004,0.005,0.006,0.007,0.008,0.009,0.010]\n",
    "\n",
    "for ki in range(len(k_list)):\n",
    "\n",
    "    par[\"k_ail\"] = k_list[ki]\n",
    "\n",
    "    A0 = []\n",
    "    A1 = []\n",
    "    a3 = []\n",
    "\n",
    "    f0_area = []\n",
    "\n",
    "    for i in range(len(lambd_list)):\n",
    "        # R_INTER = par[\"R_INTER\"]\n",
    "        # old_R_abs = par[\"lambd_abs\"]/par[\"k_abs\"]\n",
    "        # par[\"lambd_abs\"]=test_list[i]\n",
    "        # new_R_abs = par[\"lambd_abs\"]/par[\"k_abs\"]\n",
    "        # par[\"R_INTER\"] = R_INTER - old_R_abs + new_R_abs\n",
    "        \n",
    "\n",
    "        # par[\"Heta\"] = Lf0_list[i]\n",
    "        # par[\"L_f0\"] = Lf0_list[i]\n",
    "\n",
    "\n",
    "        par[\"lambd_ail\"] = lambd_list[i]\n",
    "\n",
    "        par[\"N_ail\"] = round((par[\"D\"]+par[\"w_abs\"])/(par[\"D\"]+par[\"lambd_ail\"]))\n",
    "        par[\"N_f0\"] = round(par[\"N_ail\"]*par[\"L_riser\"]/par[\"w_abs\"])\n",
    "\n",
    "\n",
    "        df_par,df_res,X,list_df,list_df_historic = ty.simu_condi(par,condi)\n",
    "        A0.append(pr.A0_A1(X)[0])\n",
    "        A1.append(pr.A0_A1(X)[1])\n",
    "        a3.append(round(X[0][3],3))\n",
    "        f0_area.append(float(df_par.loc[\"w_abs\"])*float(df_par.loc[\"N_f0\"])*float(df_par.loc[\"L_f0\"]))\n",
    "\n",
    "    plt.scatter(np.array(lambd_list)*1000,np.array(A1),marker=\"o\",label=\"k_fin = \"+str(par[\"k_ail\"]))\n",
    "\n",
    "plt.xlabel('Fin thickness (mm)')\n",
    "plt.ylabel('A1 (1,3 m/s)')\n",
    "plt.legend()\n",
    "plt.show()\n"
   ]
  },
  {
   "cell_type": "code",
   "execution_count": null,
   "metadata": {},
   "outputs": [],
   "source": [
    "# Epaisseur et longueur ailette\n",
    "\n",
    "par[\"k_ail\"] = 0.5\n",
    "par[\"D\"] = 0.014\n",
    "\n",
    "# par[\"D\"] = (par[\"w_abs\"]-par[\"N_ail\"]*par[\"lambd_ail\"])/(par[\"N_ail\"]-1)\n",
    "\n",
    "Lf0_list = [0.0001,0.010,0.015,0.020,0.025,0.030,0.035,0.040,0.045,0.050]\n",
    "\n",
    "lambd_list = [0.001,0.002,0.003,0.004,0.005,0.006,0.007,0.008,0.009,0.010]\n",
    "\n",
    "for ki in range(len(lambd_list)):\n",
    "\n",
    "    par[\"lambd_ail\"] = lambd_list[ki]\n",
    "\n",
    "    par[\"N_ail\"] = round((par[\"D\"]+par[\"w_abs\"])/(par[\"D\"]+par[\"lambd_ail\"]))\n",
    "    par[\"N_f0\"] = round(par[\"N_ail\"]*par[\"L_riser\"])/par[\"w_abs\"]\n",
    "\n",
    "    A0 = []\n",
    "    A1 = []\n",
    "    a3 = []\n",
    "\n",
    "    f0_area = []\n",
    "\n",
    "    for i in range(len(Lf0_list)):\n",
    "        # R_INTER = par[\"R_INTER\"]\n",
    "        # old_R_abs = par[\"lambd_abs\"]/par[\"k_abs\"]\n",
    "        # par[\"lambd_abs\"]=test_list[i]\n",
    "        # new_R_abs = par[\"lambd_abs\"]/par[\"k_abs\"]\n",
    "        # par[\"R_INTER\"] = R_INTER - old_R_abs + new_R_abs\n",
    "        \n",
    "\n",
    "        par[\"Heta\"] = Lf0_list[i]\n",
    "        par[\"L_f0\"] = Lf0_list[i]\n",
    "\n",
    "\n",
    "        df_par,df_res,X,list_df,list_df_historic = ty.simu_condi(par,condi)\n",
    "        A0.append(pr.A0_A1(X)[0])\n",
    "        A1.append(pr.A0_A1(X)[1])\n",
    "        a3.append(round(X[0][3],3))\n",
    "        f0_area.append(float(df_par.loc[\"w_abs\"])*float(df_par.loc[\"N_f0\"])*float(df_par.loc[\"L_f0\"]))\n",
    "\n",
    "    plt.scatter(np.array(Lf0_list)*1000,np.array(A1),marker=\"o\",label=\"lambd_fin = \"+str(par[\"lambd_ail\"]*1000)+\" mm\")\n",
    "\n",
    "plt.xlabel('Fin length (mm)')\n",
    "plt.ylabel('A1 (1,3 m/s)')\n",
    "plt.legend(loc='center left', bbox_to_anchor=(1, 0.5))\n",
    "plt.show()"
   ]
  },
  {
   "cell_type": "code",
   "execution_count": null,
   "metadata": {},
   "outputs": [],
   "source": [
    "# Conductivité et longueur ailette\n",
    "\n",
    "par[\"lambd_ail\"] = 0.005\n",
    "par[\"D\"] = 0.014\n",
    "par[\"N_ail\"] = round((par[\"D\"]+par[\"w_abs\"])/(par[\"D\"]+par[\"lambd_ail\"]))\n",
    "par[\"N_f0\"] = round(par[\"N_ail\"]*par[\"L_riser\"])/par[\"w_abs\"]\n",
    "# par[\"D\"] = (par[\"w_abs\"]-par[\"N_ail\"]*par[\"lambd_ail\"])/(par[\"N_ail\"]-1)\n",
    "print(par[\"N_ail\"])\n",
    "\n",
    "k_list = [0.2,0.5,1,30,100,237]\n",
    "\n",
    "Lf0_list = [0.0001,0.010,0.015,0.020,0.025,0.030,0.035,0.040,0.045,0.050]\n",
    "\n",
    "lambd_list = [0.001,0.002,0.003,0.004,0.005,0.006,0.007,0.008,0.009,0.010]\n",
    "\n",
    "for ki in range(len(k_list)):\n",
    "\n",
    "    par[\"k_ail\"] = k_list[ki]\n",
    "\n",
    "    A0 = []\n",
    "    A1 = []\n",
    "    a3 = []\n",
    "\n",
    "    f0_area = []\n",
    "\n",
    "    for i in range(len(Lf0_list)):\n",
    "        # R_INTER = par[\"R_INTER\"]\n",
    "        # old_R_abs = par[\"lambd_abs\"]/par[\"k_abs\"]\n",
    "        # par[\"lambd_abs\"]=test_list[i]\n",
    "        # new_R_abs = par[\"lambd_abs\"]/par[\"k_abs\"]\n",
    "        # par[\"R_INTER\"] = R_INTER - old_R_abs + new_R_abs\n",
    "        \n",
    "\n",
    "        par[\"Heta\"] = Lf0_list[i]\n",
    "        par[\"L_f0\"] = Lf0_list[i]\n",
    "\n",
    "\n",
    "        df_par,df_res,X,list_df,list_df_historic = ty.simu_condi(par,condi)\n",
    "        A0.append(pr.A0_A1(X)[0])\n",
    "        A1.append(pr.A0_A1(X)[1])\n",
    "        a3.append(round(X[0][3],3))\n",
    "        f0_area.append(float(df_par.loc[\"w_abs\"])*float(df_par.loc[\"N_f0\"])*float(df_par.loc[\"L_f0\"]))\n",
    "\n",
    "    plt.scatter(np.array(Lf0_list)*1000,np.array(A1),marker=\"o\",label=\"k_fin = \"+str(par[\"k_ail\"]))\n",
    "\n",
    "plt.xlabel('Fin length (mm)')\n",
    "plt.ylabel('A1 (1,3 m/s)')\n",
    "plt.legend()\n",
    "plt.show()"
   ]
  },
  {
   "cell_type": "code",
   "execution_count": null,
   "metadata": {},
   "outputs": [],
   "source": [
    "areas = {\"fs_he_area\" : float(df_par.loc[\"A_G\"]),\"bs_he_area\" : float(df_par.loc[\"w_abs\"])*float(df_par.loc[\"L_abs\"]),\"f0_area\" : float(df_par.loc[\"w_abs\"])*float(df_par.loc[\"N_f0\"])*float(df_par.loc[\"L_f0\"])}"
   ]
  },
  {
   "cell_type": "code",
   "execution_count": null,
   "metadata": {},
   "outputs": [],
   "source": [
    "areas"
   ]
  },
  {
   "cell_type": "code",
   "execution_count": null,
   "metadata": {},
   "outputs": [],
   "source": [
    "backside_he_area"
   ]
  },
  {
   "cell_type": "code",
   "execution_count": null,
   "metadata": {},
   "outputs": [],
   "source": [
    "# Air layer\n",
    "\n",
    "test_list = np.linspace(0.001,0.002,30)\n",
    "\n",
    "\n",
    "\n",
    "A0 = []\n",
    "A1 = []\n",
    "a1 = []\n",
    "a3 = []\n",
    "\n",
    "for i in range(len(test_list)):\n",
    "    ty.change_air_layer(par,test_list[i])\n",
    "    df_par,df_res,X,list_df,list_df_historic = ty.simu_condi(par,condi)\n",
    "    A0.append(pr.A0_A1(X)[0])\n",
    "    A1.append(pr.A0_A1(X)[1])\n",
    "    a1.append(round(X[0][1],3))\n",
    "    a3.append(round(X[0][3],3))"
   ]
  },
  {
   "cell_type": "code",
   "execution_count": null,
   "metadata": {},
   "outputs": [],
   "source": [
    "plt.plot(test_list,A0)\n",
    "plt.show()"
   ]
  },
  {
   "cell_type": "code",
   "execution_count": null,
   "metadata": {},
   "outputs": [],
   "source": [
    "plt.scatter(np.array(test_list)*1000,np.array(f0_area)/float(df_par.loc[\"A_G\"]),marker=\"o\",color='blue')\n",
    "plt.xlabel('Length of fins')\n",
    "plt.ylabel('Fins area related to gross (m2/m2)')\n",
    "plt.show()"
   ]
  },
  {
   "cell_type": "code",
   "execution_count": null,
   "metadata": {},
   "outputs": [],
   "source": [
    "# Glass\n",
    "\n",
    "test_list = np.linspace(0.001,0.010,20)\n",
    "\n",
    "A0 = []\n",
    "A1 = []\n",
    "\n",
    "for i in range(len(test_list)):\n",
    "    R_TOP = par[\"R_TOP\"]\n",
    "    old_R_glass = par[\"lambd_glass\"]/par[\"k_glass\"]\n",
    "    par[\"lambd_glass\"]=test_list[i]\n",
    "    new_R_glass = par[\"lambd_glass\"]/par[\"k_glass\"]\n",
    "    par[\"R_TOP\"] = R_TOP - old_R_glass + new_R_glass\n",
    "    df_par,df_res,X,list_df,list_df_historic = ty.simu_condi(par,condi)\n",
    "    A0.append(pr.A0_A1(X)[0])\n",
    "    A1.append(pr.A0_A1(X)[1])"
   ]
  },
  {
   "cell_type": "code",
   "execution_count": null,
   "metadata": {},
   "outputs": [],
   "source": [
    "df_res[\"-Q_top_conv\"]=-df_res[\"Q_top_conv\"]\n",
    "df_res[\"-Q_top_rad\"]=-df_res[\"Q_top_rad\"]"
   ]
  },
  {
   "cell_type": "code",
   "execution_count": null,
   "metadata": {},
   "outputs": [],
   "source": [
    "display(HTML(df_par.to_html()))"
   ]
  },
  {
   "cell_type": "code",
   "execution_count": null,
   "metadata": {},
   "outputs": [],
   "source": [
    "bht.Nu_forced_flat_plate_isoflux_lam(1.5, 0.024,3,15.6*10**(-6),0.707)"
   ]
  },
  {
   "cell_type": "code",
   "execution_count": null,
   "metadata": {},
   "outputs": [],
   "source": [
    "(1/1.5)*integrate.quad(bht.Nu_forced_flat_plate_isoflux_lam,0,1.5,args=(0.024,3.,15.6*10**(-6),0.707))[0]"
   ]
  },
  {
   "cell_type": "code",
   "execution_count": null,
   "metadata": {},
   "outputs": [],
   "source": [
    "bht.h_top_forced(300,290,2.7,1.5)"
   ]
  },
  {
   "cell_type": "code",
   "execution_count": null,
   "metadata": {},
   "outputs": [],
   "source": [
    "1/(263*df_par.loc['p_tube'])+1/df_par.loc['C_B']"
   ]
  },
  {
   "cell_type": "code",
   "execution_count": null,
   "metadata": {},
   "outputs": [],
   "source": [
    "1/(df_par.loc['p_tube']/(1/263+1/df_par.loc['C_B']))"
   ]
  },
  {
   "cell_type": "code",
   "execution_count": null,
   "metadata": {},
   "outputs": [],
   "source": [
    "1/1.468"
   ]
  },
  {
   "cell_type": "code",
   "execution_count": null,
   "metadata": {},
   "outputs": [],
   "source": [
    "300*(df_res[\"Q_fluid1\"]-(df_res[\"Q_PV_plate\"]-df_res[\"Q_fluid_back\"]-df_res[\"Q_f01\"]))"
   ]
  },
  {
   "cell_type": "code",
   "execution_count": null,
   "metadata": {},
   "outputs": [],
   "source": [
    "float(df_par.loc[\"W\"])*float(df_par.loc[\"L_riser\"])*df_res[\"S\"]"
   ]
  },
  {
   "cell_type": "code",
   "execution_count": null,
   "metadata": {},
   "outputs": [],
   "source": [
    "(float(df_par.loc[\"W\"])*float(df_par.loc[\"L_riser\"])*df_res[\"S\"]-df_res[\"Q_top_conv\"]-df_res[\"Q_top_rad\"])-df_res[\"Q_PV_plate\"]"
   ]
  },
  {
   "cell_type": "code",
   "execution_count": null,
   "metadata": {},
   "outputs": [],
   "source": [
    "((((float(df_par.loc[\"W\"])*float(df_par.loc[\"L_riser\"])*df_res[\"S\"]-df_res[\"Q_top_conv\"]-df_res[\"Q_top_rad\"])-df_res[\"Q_fluid_back\"]-df_res[\"Q_f01\"])-df_res[\"Q_fluid1\"])*300)/(df_res[\"Q_fluid1\"]*300)"
   ]
  },
  {
   "cell_type": "code",
   "execution_count": null,
   "metadata": {},
   "outputs": [],
   "source": [
    "df_select_u = df_res.loc[df_res[\"u\"]<=1.]"
   ]
  },
  {
   "cell_type": "code",
   "execution_count": null,
   "metadata": {},
   "outputs": [],
   "source": [
    "display(HTML(df_select_u.to_html()))"
   ]
  },
  {
   "cell_type": "code",
   "execution_count": null,
   "metadata": {},
   "outputs": [],
   "source": [
    "df_hist = df_select_u\n",
    "\n",
    "dict_pos = {}\n",
    "dict_neg = {}\n",
    "dict_pos_agg = {}\n",
    "dict_neg_agg = {}\n",
    "\n",
    "DT_list = []\n",
    "for DT in df_hist[\"-(T_m - T_a)\"]:\n",
    "    DT_list.append(-DT)\n",
    "\n",
    "powers = [\"S_loc\",\"-Q_top_conv\",\"-Q_top_rad\",\"-Q_fluid_back\"]\n",
    "# powers = [\"S_loc\",\"-Q_top_conv\",\"-Q_top_rad\",\"-Q_fluid_back\",\"-Q_f01\"]\n",
    "\n",
    "\n",
    "for i in range(len(powers)):\n",
    "    str = powers[i]\n",
    "    \n",
    "    dict_pos[str] = 300*np.array(ty.pos_df(df_hist,str))\n",
    "    dict_neg[str] = 300*np.array(ty.neg_df(df_hist,str))\n",
    "\n",
    "    if i==0:\n",
    "        dict_pos_agg[str] = 0*np.array(ty.pos_df(df_hist,str))\n",
    "        dict_neg_agg[str] = dict_pos_agg[str]\n",
    "\n",
    "    else:\n",
    "        dict_pos_agg[str] = dict_pos_agg[powers[i-1]] + dict_pos[powers[i-1]]\n",
    "        dict_neg_agg[str] = dict_neg_agg[powers[i-1]] + dict_neg[powers[i-1]]"
   ]
  },
  {
   "cell_type": "code",
   "execution_count": null,
   "metadata": {},
   "outputs": [],
   "source": [
    "dict_pos[\"S_loc\"]"
   ]
  },
  {
   "cell_type": "code",
   "execution_count": null,
   "metadata": {},
   "outputs": [],
   "source": [
    "fig, ax = plt.subplots()\n",
    "\n",
    "width = 0.35\n",
    "\n",
    "for str in powers:\n",
    "    ax.bar(DT_list, dict_pos[str], width, bottom=dict_pos_agg[str], label=str)\n",
    "    ax.bar(DT_list, dict_neg[str], width, bottom=dict_neg_agg[str], label=str)\n",
    "\n",
    "ax.scatter(DT_list,300*df_hist[\"Q_fluid1\"],color=\"red\",label=\"Q_fluid\")\n",
    "# ax.plot(labels,np.array(N_disp*[list_PL[q]]))\n",
    "\n",
    "# ax.set_ylabel('PL (Pa)')\n",
    "# ax.set_title('SPRING')\n",
    "ax.set_xlabel(\"Tm - Ta (K)\")\n",
    "ax.set_ylabel(\"Power (W)\")\n",
    "ax.axhline(y = 0., color = 'g', linestyle = '-')\n",
    "  \n",
    "plt.legend(loc='center left', bbox_to_anchor=(1, 0.5))\n",
    "\n",
    "plt.show()"
   ]
  },
  {
   "cell_type": "code",
   "execution_count": null,
   "metadata": {},
   "outputs": [],
   "source": []
  },
  {
   "cell_type": "code",
   "execution_count": null,
   "metadata": {},
   "outputs": [],
   "source": [
    "df_res[\"Q_PV_plate\"]+df_res[\"Q_top_conv\"]+df_res[\"Q_top_rad\"]"
   ]
  },
  {
   "cell_type": "code",
   "execution_count": null,
   "metadata": {},
   "outputs": [],
   "source": [
    "tab_mat"
   ]
  },
  {
   "cell_type": "code",
   "execution_count": null,
   "metadata": {},
   "outputs": [],
   "source": [
    "pr.display"
   ]
  },
  {
   "cell_type": "code",
   "execution_count": null,
   "metadata": {},
   "outputs": [],
   "source": [
    "X[0][len(X[0])-1]"
   ]
  },
  {
   "cell_type": "code",
   "execution_count": null,
   "metadata": {},
   "outputs": [],
   "source": [
    "# Test complet TUV ou général (key word: wing)\n",
    "\n",
    "### Creating Excel outputs\n",
    "\n",
    "if par[\"test\"] == \"TUV\":\n",
    "    prefixe = r'\\OutputsTUV'\n",
    "else: # general\n",
    "    prefixe = r'\\Parametric'\n",
    "\n",
    "suffixe = prefixe+str(par[\"ailette\"])+r'-'+moment+r'.xlsx'\n",
    "fichier_o = pathout+suffixe\n",
    "\n",
    "for d in dataframe_to_rows(df_par, index=True, header=False):\n",
    "    sheet_o.append(d)\n",
    "\n",
    "wso = wbo.create_sheet(\"Outputs\")\n",
    "\n",
    "for d in dataframe_to_rows(df, index=True, header=True):\n",
    "    wso.append(d)\n",
    "\n",
    "huit = len(X[0])-1\n",
    "\n",
    "index_coeff = ['a1','a2','a3','a4','a6','a7','a8']\n",
    "ws_lsm = wbo.create_sheet(\"LSM\")\n",
    "ws_lsm['A'+str(1)] = 'a0'\n",
    "ws_lsm['B'+str(1)] = X[0][len(X[0])-1]\n",
    "\n",
    "print('a0 : ',round(X[0][len(X[0])-1],3))\n",
    "\n",
    "ws_lsm['C'+str(1)] = X[3][len(X[0])-1]\n",
    "for l in range(huit):\n",
    "    ws_lsm['A'+str(l+2)] = index_coeff[l]\n",
    "    if l != 3:\n",
    "        ws_lsm['B'+str(l+2)] = -X[0][l]\n",
    "        print(index_coeff[l],' : ',round(-X[0][l],3))\n",
    "\n",
    "    else:\n",
    "        ws_lsm['B'+str(l+2)] = X[0][l]\n",
    "        print(index_coeff[l],' : ',round(X[0][l],3))\n",
    "\n",
    "    ws_lsm['C'+str(l+2)] = X[3][l]\n",
    "\n",
    "ws_lsm['A'+str(huit+2)] = 'a0 (DS) at 1,3 m/s'\n",
    "ws_lsm['B'+str(huit+2)] = X[0][len(X[0])-1] - (-X[0][4]*(1.3-3))\n",
    "print(round(X[0][len(X[0])-1] - (-X[0][4]*(1.3-3)),3)*100,'%')\n",
    "\n",
    "ws_lsm['A'+str(huit+3)] = 'a1 (DS) at 1,3 m/s'\n",
    "ws_lsm['B'+str(huit+3)] = -X[0][0] - X[0][2]*(1.3-3)\n",
    "print(round(-X[0][0] - X[0][2]*(1.3-3),1))\n",
    "    \n",
    "wbo.save(filename = fichier_o)\n",
    "wbo.close()\n",
    "\n",
    "### Excel is created\n",
    "\n",
    "print(df)\n",
    "\n",
    "print(\"Finished\")"
   ]
  },
  {
   "cell_type": "code",
   "execution_count": null,
   "metadata": {},
   "outputs": [],
   "source": [
    "al = pd.DataFrame([[1,2,3],[2,3,4],[4,5,6]],columns=['a','b','c'])"
   ]
  },
  {
   "cell_type": "code",
   "execution_count": null,
   "metadata": {},
   "outputs": [],
   "source": [
    "al.keys()[0]"
   ]
  },
  {
   "cell_type": "code",
   "execution_count": null,
   "metadata": {},
   "outputs": [],
   "source": [
    "df"
   ]
  },
  {
   "cell_type": "code",
   "execution_count": null,
   "metadata": {},
   "outputs": [],
   "source": [
    "dfbis = df.loc[df['u']==0.7]"
   ]
  },
  {
   "cell_type": "code",
   "execution_count": null,
   "metadata": {},
   "outputs": [],
   "source": [
    "dfbis"
   ]
  },
  {
   "cell_type": "code",
   "execution_count": null,
   "metadata": {},
   "outputs": [],
   "source": [
    "# Parametric study\n",
    "\n",
    "N_list = np.linspace(40,120,10)\n",
    "\n",
    "test_list = []\n",
    "test_list = N_list\n",
    "\n",
    "# for i in range(len(D_list)):\n",
    "#     test_list.append(math.floor((D_list[i]+par[\"w_abs\"])/(D_list[i]+par[\"lambd_ail\"])))\n",
    "\n",
    "\n",
    "# test_list = np.linspace(25,125,20)\n",
    "\n",
    "A0 = []\n",
    "A1 = []\n",
    "A2 = []\n",
    "A3 = []\n",
    "A4 = []\n",
    "A6 = []\n",
    "A7 = []\n",
    "A8 = []\n",
    "\n",
    "for i in range(len(test_list)):\n",
    "\n",
    "    pr.proc(par,par[\"test\"],i,test_list)\n",
    "\n",
    "    # Model\n",
    "    # if 'TUV' in par[\"test\"]:\n",
    "    #     df_par,df,X = ty.simu_condi(par,condi)\n",
    "    # else:\n",
    "    #     df_par,df,X = ty.simu_multi_condi(par,G_list,coeff_Gp_list,T_amb_list,u_list,T_guess_list,T_f_in_list)\n",
    "\n",
    "    df_par,df,X = ty.simu_condi(par,condi)\n",
    "\n",
    "    A0.append(X[0][len(X[0])-1])\n",
    "    A1.append(-X[0][0])\n",
    "    A2.append(-X[0][1])\n",
    "    A3.append(-X[0][2])\n",
    "    A4.append(X[0][3])\n",
    "    A6.append(-X[0][4])\n",
    "    A7.append(-X[0][5])\n",
    "    A8.append(-X[0][6])\n",
    "\n",
    "# Creating Excel outputs\n",
    "\n",
    "suffixe = r'\\Parametric'+str(par[\"ailette\"])+r'-'+moment+r'.xlsx'\n",
    "fichier_o = pathout+suffixe\n",
    "\n",
    "for d in dataframe_to_rows(df_par, index=True, header=False):\n",
    "    sheet_o.append(d)\n",
    "\n",
    "wso = wbo.create_sheet(\"Outputs\")\n",
    "\n",
    "wso['A'+str(1)] = par[\"test\"]\n",
    "wso['B'+str(1)] = 'a0'\n",
    "wso['C'+str(1)] = 'a1'\n",
    "wso['D'+str(1)] = 'a2'\n",
    "wso['E'+str(1)] = 'a3'\n",
    "wso['F'+str(1)] = 'a4'\n",
    "wso['G'+str(1)] = 'a6'\n",
    "wso['H'+str(1)] = 'a7'\n",
    "wso['I'+str(1)] = 'a8'\n",
    "wso['J'+str(1)] = 'a0 DS'\n",
    "wso['K'+str(1)] = 'a1 DS'\n",
    "\n",
    "A0DS = []\n",
    "A1DS = []\n",
    "\n",
    "for l in range(len(test_list)):\n",
    "    wso['A'+str(l+2)] = test_list[l]\n",
    "    wso['B'+str(l+2)] = A0[l]\n",
    "    wso['C'+str(l+2)] = A1[l]\n",
    "    wso['D'+str(l+2)] = A2[l]\n",
    "    wso['E'+str(l+2)] = A3[l]\n",
    "    wso['F'+str(l+2)] = A4[l]\n",
    "    wso['G'+str(l+2)] = A6[l]\n",
    "    wso['H'+str(l+2)] = A7[l]\n",
    "    wso['I'+str(l+2)] = A8[l]\n",
    "    wso['J'+str(l+2)] = A0[l]-A6[l]*(-1.7)\n",
    "    wso['K'+str(l+2)] = A1[l]+A3[l]*(-1.7)\n",
    "\n",
    "    A0DS.append(A0[l]-A6[l]*(-1.7))\n",
    "    A1DS.append(A1[l]+A3[l]*(-1.7))\n",
    "\n",
    "wbo.save(filename = fichier_o)\n",
    "wbo.close()\n",
    "\n",
    "print(\"Finished\")"
   ]
  },
  {
   "cell_type": "code",
   "execution_count": null,
   "metadata": {},
   "outputs": [],
   "source": [
    "print(test_list)"
   ]
  },
  {
   "cell_type": "code",
   "execution_count": null,
   "metadata": {},
   "outputs": [],
   "source": [
    "# Plot parametric study\n",
    "\n",
    "# create figure and axis objects with subplots()\n",
    "fig,ax = plt.subplots()\n",
    "# make a plot\n",
    "\n",
    "ax.plot(np.array(test_list)*1000,A0DS,\n",
    "        color=\"red\", \n",
    "       marker=\"o\")\n",
    "\n",
    "# set x-axis label\n",
    "\n",
    "ax.set_xlabel(\"Fin spacing (mm)\", fontsize = 14)\n",
    "\n",
    "# set y-axis label\n",
    "\n",
    "ax.set_ylabel(\"A0 at u = 1.3 m/s\",\n",
    "              color=\"red\",\n",
    "              fontsize=14)\n",
    "\n",
    "ax.set_ybound(0.4,0.6)\n",
    "\n",
    "# ax.yaxis.set_major_formatter(mtick.PercentFormatter(xmax=1.0))\n",
    "# ax.yaxis.set_major_formatter(mtick.FormatStrFormatter('%0.1f'))\n",
    "ax.yaxis.set_major_formatter(mtick.FormatStrFormatter('%.2f'))\n",
    "\n",
    "# ax.axhline(y = 0.999*0.396177,label='98% of the maximum performance',color='green')\n",
    "# ax.axvline(x = 0.4, label = 'Thickness of the tested prototype',color='black')\n",
    "# ax.axhline(y = 0.394,color='black')\n",
    "# ax.axvline(x = 1.3,color='green')\n",
    "# ax.legend()\n",
    "\n",
    "# twin object for two dif       ferent y-axis on the sample plot\n",
    "ax2=ax.twinx()\n",
    "# make a plot with different y-axis using second axis object\n",
    "ax2.plot(np.array(test_list)*1000,A1DS,color=\"blue\",marker=\"o\")\n",
    "ax2.set_ylabel(\"A1 at u = 1.3 m/s\",color=\"blue\",fontsize=14)\n",
    "\n",
    "# ax2.set_ybound(12.5,16)\n",
    "\n",
    "# save the plot as a file\n",
    "plt.savefig('parametric.png',format='png',dpi=200,bbox_inches='tight')\n",
    "\n",
    "plt.show()"
   ]
  },
  {
   "cell_type": "code",
   "execution_count": null,
   "metadata": {},
   "outputs": [],
   "source": [
    "a = {'a' : 1, 'b' : 2}\n",
    "b = {'a' : 2, 'b' : 4}\n",
    "l = [a,b]\n",
    "dfl = pd.DataFrame(l)\n",
    "dfm = dfl.mean()\n",
    "print(dfl)\n",
    "print(dfm)\n",
    "print(dfm['a'])\n",
    "\n",
    "dfh = pd.DataFrame([dfm,dfm,dfm])\n",
    "print(dfh)\n",
    "\n",
    "bonjour = 'a'\n",
    "print(dfh[bonjour])"
   ]
  },
  {
   "cell_type": "code",
   "execution_count": null,
   "metadata": {},
   "outputs": [],
   "source": [
    "print(test_list)\n",
    "print(A0DS[5])"
   ]
  },
  {
   "cell_type": "code",
   "execution_count": null,
   "metadata": {},
   "outputs": [],
   "source": [
    "np.max(A0DS)"
   ]
  },
  {
   "cell_type": "code",
   "execution_count": null,
   "metadata": {},
   "outputs": [],
   "source": [
    "par[\"h_fluid\"]"
   ]
  },
  {
   "cell_type": "code",
   "execution_count": null,
   "metadata": {},
   "outputs": [],
   "source": [
    "# Test d'un panneau dans un set de conditions donné (résultats en détails tranche par tranche)\n",
    "\n",
    "suffixe = r'\\OnePanel-'+moment+r'.xlsx'\n",
    "fichier_o = pathout+suffixe\n",
    "var = {}\n",
    "\n",
    "list_var,list_var_conv = ty.simu_one_steady_state(par,var,par[\"N_meander\"],par[\"T_fluid_in0\"],315,\"all\")\n",
    "\n",
    "compt = 2\n",
    "\n",
    "*var_names0, = var\n",
    "var_names = ['T_fluid_in'] + var_names0\n",
    "\n",
    "for m in range(len(var_names)):\n",
    "    sheet_o.cell(row=1,column=m+1,value = var_names[m])\n",
    "\n",
    "for l in range(par[\"N_meander\"]):\n",
    "    for m in range(len(var_names)):\n",
    "        sheet_o.cell(row=l+2,column=m+1,value = list_var[l][var_names[m]])\n",
    "\n",
    "sheet_o3 = wbo.create_sheet(\"Convergence\")\n",
    "\n",
    "var_names2 = ['Slice','T_fluid_in'] + var_names0\n",
    "\n",
    "for m in range(len(var_names2)):\n",
    "    sheet_o3.cell(row=1,column=m+1,value = var_names2[m])\n",
    "\n",
    "for l in range(len(list_var_conv)):\n",
    "    for m in range(len(var_names2)):\n",
    "        sheet_o3.cell(row=l+2,column=m+1,value = list_var_conv[l][var_names2[m]])\n",
    "\n",
    "\n",
    "sheet_o2 = wbo.create_sheet(\"T_abs\")\n",
    "\n",
    "x_list = np.linspace(0,par[\"delta\"],100)\n",
    "\n",
    "T_abs = []\n",
    "\n",
    "delta = par[\"delta\"]\n",
    "\n",
    "for k in range(par[\"N_meander\"]):\n",
    "    b = list_var[k][\"b\"]\n",
    "    j = list_var[k][\"j\"]\n",
    "    m = list_var[k][\"m\"]\n",
    "    T_B = list_var[k][\"T_Base_mean\"]\n",
    "\n",
    "    b_j = b/j\n",
    "\n",
    "    for l in range(len(x_list)):\n",
    "        res = b_j+((T_B-b_j)/math.cosh(m*delta))*math.cosh(m*x_list[l])\n",
    "\n",
    "        sheet_o2.cell(row=l+1,column=k+2,value = res)\n",
    "\n",
    "for l in range(len(x_list)):\n",
    "    sheet_o2.cell(row=l+1,column=1,value=x_list[l])\n",
    "\n",
    "wbo.save(filename = fichier_o)\n",
    "wbo.close()\n",
    "\n",
    "print(\"Finished\")"
   ]
  },
  {
   "cell_type": "code",
   "execution_count": null,
   "metadata": {},
   "outputs": [],
   "source": [
    "hein = {'ah':1,'bh':2}\n",
    "print(hein.values())\n",
    "print(hein.keys())\n",
    "hh = pd.DataFrame.from_dict({'row' : hein.values()},orient='index',columns=hein.keys())"
   ]
  },
  {
   "cell_type": "code",
   "execution_count": null,
   "metadata": {},
   "outputs": [],
   "source": [
    "\"main\" in [\"mai\",\"bonjour\"]"
   ]
  },
  {
   "cell_type": "code",
   "execution_count": null,
   "metadata": {},
   "outputs": [],
   "source": [
    "yoo = pd.DataFrame()"
   ]
  },
  {
   "cell_type": "code",
   "execution_count": null,
   "metadata": {},
   "outputs": [],
   "source": [
    "yoo['salut'] = [2]"
   ]
  },
  {
   "cell_type": "code",
   "execution_count": null,
   "metadata": {},
   "outputs": [],
   "source": [
    "yoo"
   ]
  }
 ],
 "metadata": {
  "kernelspec": {
   "display_name": "Python 3.10.5 ('model23')",
   "language": "python",
   "name": "python3"
  },
  "language_info": {
   "codemirror_mode": {
    "name": "ipython",
    "version": 3
   },
   "file_extension": ".py",
   "mimetype": "text/x-python",
   "name": "python",
   "nbconvert_exporter": "python",
   "pygments_lexer": "ipython3",
   "version": "3.10.5"
  },
  "orig_nbformat": 4,
  "vscode": {
   "interpreter": {
    "hash": "d629700add7d13df99efa7b6ee1fc1a3d9f6e4ac2336389d6054d4e516eee861"
   }
  }
 },
 "nbformat": 4,
 "nbformat_minor": 2
}
