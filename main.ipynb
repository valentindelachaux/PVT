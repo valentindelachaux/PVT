{
 "cells": [
  {
   "cell_type": "code",
   "execution_count": 1,
   "metadata": {},
   "outputs": [],
   "source": [
    "import math\n",
    "from datetime import datetime\n",
    "import openpyxl as opxl\n",
    "from openpyxl.utils.dataframe import dataframe_to_rows\n",
    "import pandas as pd\n",
    "import numpy as np\n",
    "import matplotlib.pyplot as plt\n",
    "import model as ty\n",
    "import proc as pr\n",
    "\n",
    "import heat_transfer as bht\n",
    "\n",
    "import os"
   ]
  },
  {
   "cell_type": "code",
   "execution_count": null,
   "metadata": {},
   "outputs": [],
   "source": [
    "par_2 = pr.create_par()\n",
    "\n",
    "wbo = pr.create_out()\n",
    "sheet_o = wbo.active\n",
    "sheet_o.title = \"Inputs\"\n",
    "\n",
    "G_list,coeff_G_p_list,u_list,T_amb_list,T_f_in_list,T_guess_list,condi = pr.create_inputs()\n",
    "\n",
    "# Pour titre fichier outputs\n",
    "moment = str(datetime.now().hour)+'-'+str(datetime.now().minute)+'-'+str(datetime.now().second)"
   ]
  },
  {
   "cell_type": "code",
   "execution_count": 124,
   "metadata": {},
   "outputs": [
    {
     "name": "stdout",
     "output_type": "stream",
     "text": [
      "TUV\n"
     ]
    }
   ],
   "source": [
    "print(par[\"test\"])"
   ]
  },
  {
   "cell_type": "code",
   "execution_count": 125,
   "metadata": {},
   "outputs": [
    {
     "name": "stdout",
     "output_type": "stream",
     "text": [
      "a0 :  0.22\n",
      "a1  :  12.033\n",
      "a2  :  -4534401755630.767\n",
      "a3  :  0.871\n",
      "a4  :  1519959349.491\n",
      "a6  :  0.026\n",
      "a7  :  -0.0\n",
      "a8  :  -0.0\n",
      "26.5 %\n",
      "10.6\n",
      "Finished\n"
     ]
    }
   ],
   "source": [
    "# Test complet TUV ou général\n",
    "\n",
    "if par[\"test\"] == \"TUV\":\n",
    "    df_par,df,X = ty.test_condi_list(par,condi)\n",
    "elif par[\"test\"] == \"general\": # general\n",
    "    df_par,df,X = ty.test_meander_condi(par,G_list,coeff_G_p_list,T_amb_list,u_list,T_guess_list,T_f_in_list)\n",
    "else:\n",
    "    print(\"Erreur de type de test\")\n",
    "    raise KeyboardInterrupt\n",
    "\n",
    "# Creating Excel outputs\n",
    "if par[\"test\"] == \"TUV\":\n",
    "    prefixe = r'\\OutputsTUV'\n",
    "else: # general\n",
    "    prefixe = r'\\Parametric'\n",
    "\n",
    "suffixe = prefixe+str(par[\"ailette\"])+r'-'+moment+r'.xlsx'\n",
    "fichier_o = pathout+suffixe\n",
    "\n",
    "for d in dataframe_to_rows(df_par, index=True, header=False):\n",
    "    sheet_o.append(d)\n",
    "\n",
    "wso = wbo.create_sheet(\"Outputs\")\n",
    "\n",
    "for d in dataframe_to_rows(df, index=True, header=True):\n",
    "    wso.append(d)\n",
    "\n",
    "huit = len(X[0])-1\n",
    "\n",
    "index_coeff = ['a1','a2','a3','a4','a6','a7','a8']\n",
    "ws_lsm = wbo.create_sheet(\"LSM\")\n",
    "ws_lsm['A'+str(1)] = 'a0'\n",
    "ws_lsm['B'+str(1)] = X[0][len(X[0])-1]\n",
    "\n",
    "print('a0 : ',round(X[0][len(X[0])-1],3))\n",
    "\n",
    "ws_lsm['C'+str(1)] = X[3][len(X[0])-1]\n",
    "for l in range(huit):\n",
    "    ws_lsm['A'+str(l+2)] = index_coeff[l]\n",
    "    if l != 3:\n",
    "        ws_lsm['B'+str(l+2)] = -X[0][l]\n",
    "        print(index_coeff[l],' : ',round(-X[0][l],3))\n",
    "\n",
    "    else:\n",
    "        ws_lsm['B'+str(l+2)] = X[0][l]\n",
    "        print(index_coeff[l],' : ',round(X[0][l],3))\n",
    "\n",
    "    ws_lsm['C'+str(l+2)] = X[3][l]\n",
    "\n",
    "ws_lsm['A'+str(huit+2)] = 'a0 (DS) at 1,3 m/s'\n",
    "ws_lsm['B'+str(huit+2)] = X[0][len(X[0])-1] - (-X[0][4]*(1.3-3))\n",
    "print(round(X[0][len(X[0])-1] - (-X[0][4]*(1.3-3)),3)*100,'%')\n",
    "\n",
    "ws_lsm['A'+str(huit+3)] = 'a1 (DS) at 1,3 m/s'\n",
    "ws_lsm['B'+str(huit+3)] = -X[0][0] - X[0][2]*(1.3-3)\n",
    "print(round(-X[0][0] - X[0][2]*(1.3-3),1))\n",
    "    \n",
    "wbo.save(filename = fichier_o)\n",
    "wbo.close()\n",
    "\n",
    "print(\"Finished\")"
   ]
  },
  {
   "cell_type": "code",
   "execution_count": null,
   "metadata": {},
   "outputs": [],
   "source": [
    "# Parametric study\n",
    "\n",
    "test_list = pr.pre_proc(par[\"test\"])\n",
    "\n",
    "A0 = []\n",
    "A1 = []\n",
    "A2 = []\n",
    "A3 = []\n",
    "A4 = []\n",
    "A6 = []\n",
    "A7 = []\n",
    "A8 = []\n",
    "\n",
    "for i in range(len(test_list)):\n",
    "\n",
    "    pr.proc(par,par[\"test\"],i,test_list)\n",
    "\n",
    "    # Model\n",
    "    if 'TUV' in par[\"test\"]:\n",
    "        df_par,df,X = ty.test_condi_list(par,condi)\n",
    "    else:\n",
    "        df_par,df,X = ty.test_meander_condi(par,G_list,coeff_G_p_list,T_amb_list,u_list,T_guess_list,T_f_in_list)\n",
    "\n",
    "    A0.append(X[0][len(X[0])-1])\n",
    "    A1.append(-X[0][0])\n",
    "    A2.append(-X[0][1])\n",
    "    A3.append(-X[0][2])\n",
    "    A4.append(X[0][3])\n",
    "    A6.append(-X[0][4])\n",
    "    A7.append(-X[0][5])\n",
    "    A8.append(-X[0][6])\n",
    "\n",
    "# Creating Excel outputs\n",
    "\n",
    "suffixe = r'\\Parametric'+str(par[\"ailette\"])+r'-'+moment+r'.xlsx'\n",
    "fichier_o = pathout+suffixe\n",
    "\n",
    "for d in dataframe_to_rows(df_par, index=True, header=False):\n",
    "    sheet_o.append(d)\n",
    "\n",
    "wso = wbo.create_sheet(\"Outputs\")\n",
    "\n",
    "wso['A'+str(1)] = par[\"test\"]\n",
    "wso['B'+str(1)] = 'a0'\n",
    "wso['C'+str(1)] = 'a1'\n",
    "wso['D'+str(1)] = 'a2'\n",
    "wso['E'+str(1)] = 'a3'\n",
    "wso['F'+str(1)] = 'a4'\n",
    "wso['G'+str(1)] = 'a6'\n",
    "wso['H'+str(1)] = 'a7'\n",
    "wso['I'+str(1)] = 'a8'\n",
    "wso['J'+str(1)] = 'a0 DS'\n",
    "wso['K'+str(1)] = 'a1 DS'\n",
    "\n",
    "\n",
    "for l in range(len(test_list)):\n",
    "    wso['A'+str(l+2)] = test_list[l]\n",
    "    wso['B'+str(l+2)] = A0[l]\n",
    "    wso['C'+str(l+2)] = A1[l]\n",
    "    wso['D'+str(l+2)] = A2[l]\n",
    "    wso['E'+str(l+2)] = A3[l]\n",
    "    wso['F'+str(l+2)] = A4[l]\n",
    "    wso['G'+str(l+2)] = A6[l]\n",
    "    wso['H'+str(l+2)] = A7[l]\n",
    "    wso['I'+str(l+2)] = A8[l]\n",
    "    wso['J'+str(l+2)] = A0[l]-A6[l]*(-1.7)\n",
    "    wso['K'+str(l+2)] = A1[l]+A3[l]*(-1.7)\n",
    "\n",
    "wbo.save(filename = fichier_o)\n",
    "wbo.close()\n",
    "\n",
    "print(\"Finished\")"
   ]
  },
  {
   "cell_type": "code",
   "execution_count": 70,
   "metadata": {},
   "outputs": [
    {
     "data": {
      "text/plain": [
       "123.92996712560092"
      ]
     },
     "execution_count": 70,
     "metadata": {},
     "output_type": "execute_result"
    }
   ],
   "source": [
    "par[\"h_fluid\"]"
   ]
  },
  {
   "cell_type": "code",
   "execution_count": 36,
   "metadata": {},
   "outputs": [
    {
     "name": "stdout",
     "output_type": "stream",
     "text": [
      "Finished\n"
     ]
    }
   ],
   "source": [
    "# Test d'un panneau dans un set de conditions donné (résultats en détails tranche par tranche)\n",
    "\n",
    "suffixe = r'\\OnePanel-'+moment+r'.xlsx'\n",
    "fichier_o = pathout+suffixe\n",
    "var = {}\n",
    "\n",
    "list_var,list_var_conv = ty.meander(par,var,par[\"N_meander\"],par[\"T_fluid_in0\"],315,\"all\")\n",
    "\n",
    "compt = 2\n",
    "\n",
    "*var_names0, = var\n",
    "var_names = ['T_fluid_in'] + var_names0\n",
    "\n",
    "for m in range(len(var_names)):\n",
    "    sheet_o.cell(row=1,column=m+1,value = var_names[m])\n",
    "\n",
    "for l in range(par[\"N_meander\"]):\n",
    "    for m in range(len(var_names)):\n",
    "        sheet_o.cell(row=l+2,column=m+1,value = list_var[l][var_names[m]])\n",
    "\n",
    "sheet_o3 = wbo.create_sheet(\"Convergence\")\n",
    "\n",
    "var_names2 = ['Slice','T_fluid_in'] + var_names0\n",
    "\n",
    "for m in range(len(var_names2)):\n",
    "    sheet_o3.cell(row=1,column=m+1,value = var_names2[m])\n",
    "\n",
    "for l in range(len(list_var_conv)):\n",
    "    for m in range(len(var_names2)):\n",
    "        sheet_o3.cell(row=l+2,column=m+1,value = list_var_conv[l][var_names2[m]])\n",
    "\n",
    "\n",
    "sheet_o2 = wbo.create_sheet(\"T_abs\")\n",
    "\n",
    "x_list = np.linspace(0,par[\"delta\"],100)\n",
    "\n",
    "T_abs = []\n",
    "\n",
    "delta = par[\"delta\"]\n",
    "\n",
    "for k in range(par[\"N_meander\"]):\n",
    "    b = list_var[k][\"b\"]\n",
    "    j = list_var[k][\"j\"]\n",
    "    m = list_var[k][\"m\"]\n",
    "    T_B = list_var[k][\"T_Base_mean\"]\n",
    "\n",
    "    b_j = b/j\n",
    "\n",
    "    for l in range(len(x_list)):\n",
    "        res = b_j+((T_B-b_j)/math.cosh(m*delta))*math.cosh(m*x_list[l])\n",
    "\n",
    "        sheet_o2.cell(row=l+1,column=k+2,value = res)\n",
    "\n",
    "for l in range(len(x_list)):\n",
    "    sheet_o2.cell(row=l+1,column=1,value=x_list[l])\n",
    "\n",
    "wbo.save(filename = fichier_o)\n",
    "wbo.close()\n",
    "\n",
    "print(\"Finished\")"
   ]
  },
  {
   "cell_type": "code",
   "execution_count": null,
   "metadata": {},
   "outputs": [],
   "source": []
  }
 ],
 "metadata": {
  "kernelspec": {
   "display_name": "Python 3.10.5 ('model22')",
   "language": "python",
   "name": "python3"
  },
  "language_info": {
   "codemirror_mode": {
    "name": "ipython",
    "version": 3
   },
   "file_extension": ".py",
   "mimetype": "text/x-python",
   "name": "python",
   "nbconvert_exporter": "python",
   "pygments_lexer": "ipython3",
   "version": "3.10.5"
  },
  "orig_nbformat": 4,
  "vscode": {
   "interpreter": {
    "hash": "265be7d85ab283b20e51bbdfb0a265249a31fa0616e2e61fdfa047f0a4882873"
   }
  }
 },
 "nbformat": 4,
 "nbformat_minor": 2
}
